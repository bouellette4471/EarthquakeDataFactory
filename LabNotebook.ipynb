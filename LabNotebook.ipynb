{
  "cells": [
    {
      "cell_type": "code",
      "source": [
        "!test -e /usr/local/lib/*/dist-packages/google/colab && rm -rf files.zip data tests LabNotebook.ipynb\n",
        "!test -e /usr/local/lib/*/dist-packages/google/colab && wget https://wsu-courses.s3.amazonaws.com/fall2022/cais105/assignment6/files.zip > log.txt 2>&1\n",
        "!test -e /usr/local/lib/*/dist-packages/google/colab && unzip files.zip >> log.txt 2>&1\n",
        "!test -e /usr/local/lib/*/dist-packages/google/colab && pip install otter-grader >> log.txt 2>&1"
      ],
      "metadata": {
        "id": "U7IN1T4gS63F"
      },
      "execution_count": 4,
      "outputs": []
    },
    {
      "cell_type": "code",
      "execution_count": 5,
      "metadata": {
        "deletable": false,
        "editable": false,
        "id": "P4xV8JwTS5fg"
      },
      "outputs": [],
      "source": [
        "# Initialize Otter\n",
        "import otter\n",
        "grader = otter.Notebook(\"LabNotebook.ipynb\")"
      ]
    },
    {
      "cell_type": "markdown",
      "metadata": {
        "id": "O--MJtNmS5fj"
      },
      "source": [
        "# Assignment 6: Visualizing Data\n",
        "\n",
        "In this assignment we will visualize data using `matplotlib` and `plotly` libraries, which are the visualization libraries that underlies the `datascience` library. Run the cell below to import the libraries needed for this assignment. Note that we are also specifying that we would like graphs to be drawn inline in the notebook."
      ]
    },
    {
      "cell_type": "code",
      "execution_count": 6,
      "metadata": {
        "id": "7FS9A68NS5fn"
      },
      "outputs": [],
      "source": [
        "import numpy as np\n",
        "from datascience import *\n",
        "from datascience.predicates import *\n",
        "from ipywidgets import interact, IntSlider\n",
        "\n",
        "import matplotlib.pyplot as plt\n",
        "plt.style.use(\"fivethirtyeight\")\n",
        "\n",
        "import warnings\n",
        "warnings.simplefilter('ignore')\n",
        "\n",
        "%matplotlib inline"
      ]
    },
    {
      "cell_type": "markdown",
      "metadata": {
        "id": "kkyNgz3KS5fo"
      },
      "source": [
        "\n",
        "Many of the pictures and descriptions in this section of the homework are taken from [Dr. Allison Horst](https://twitter.com/allison_horst) and [Dr. Kristen Gorman](https://www.uaf.edu/cfos/people/faculty/detail/kristen-gorman.php). The data was collected as a part of the [Long Term Ecological Research Network](https://lternet.edu/). If you're curious about the origins of the data, see [here](https://allisonhorst.github.io/palmerpenguins/) for more details.\n",
        "\n",
        "## The Data\n",
        "\n",
        "In this part of your assignment, we will explore a dataset containing size measurements for three penguin species observed on three islands in the Palmer Archipelago, Antarctica. The data was collected by Dr. Kristen Gorman, a marine biologist from 2007 to 2009.\n",
        "\n",
        "Here's a photo of Dr. Gorman in the wild collecting the data:\n",
        "\n",
        "<img src='https://wsu-courses.s3.amazonaws.com/fall2022/cais105/assignment6/gorman1.png' width=500>\n",
        "\n",
        "Run the cell below to load in our data."
      ]
    },
    {
      "cell_type": "code",
      "execution_count": 7,
      "metadata": {
        "colab": {
          "base_uri": "https://localhost:8080/",
          "height": 392
        },
        "id": "5NmqK7GmS5fp",
        "outputId": "7da0b390-37d9-4db3-960e-bdcca65ae5e5"
      },
      "outputs": [
        {
          "output_type": "execute_result",
          "data": {
            "text/plain": [
              "species | island    | bill_length_mm | bill_depth_mm | flipper_length_mm | body_mass_g | sex\n",
              "Adelie  | Torgersen | 39.1           | 18.7          | 181               | 3750        | Male\n",
              "Adelie  | Torgersen | 39.5           | 17.4          | 186               | 3800        | Female\n",
              "Adelie  | Torgersen | 40.3           | 18            | 195               | 3250        | Female\n",
              "Adelie  | Torgersen | 36.7           | 19.3          | 193               | 3450        | Female\n",
              "Adelie  | Torgersen | 39.3           | 20.6          | 190               | 3650        | Male\n",
              "Adelie  | Torgersen | 38.9           | 17.8          | 181               | 3625        | Female\n",
              "Adelie  | Torgersen | 39.2           | 19.6          | 195               | 4675        | Male\n",
              "Adelie  | Torgersen | 41.1           | 17.6          | 182               | 3200        | Female\n",
              "Adelie  | Torgersen | 38.6           | 21.2          | 191               | 3800        | Male\n",
              "Adelie  | Torgersen | 34.6           | 21.1          | 198               | 4400        | Male\n",
              "... (323 rows omitted)"
            ],
            "text/html": [
              "<table border=\"1\" class=\"dataframe\">\n",
              "    <thead>\n",
              "        <tr>\n",
              "            <th>species</th> <th>island</th> <th>bill_length_mm</th> <th>bill_depth_mm</th> <th>flipper_length_mm</th> <th>body_mass_g</th> <th>sex</th>\n",
              "        </tr>\n",
              "    </thead>\n",
              "    <tbody>\n",
              "        <tr>\n",
              "            <td>Adelie </td> <td>Torgersen</td> <td>39.1          </td> <td>18.7         </td> <td>181              </td> <td>3750       </td> <td>Male  </td>\n",
              "        </tr>\n",
              "        <tr>\n",
              "            <td>Adelie </td> <td>Torgersen</td> <td>39.5          </td> <td>17.4         </td> <td>186              </td> <td>3800       </td> <td>Female</td>\n",
              "        </tr>\n",
              "        <tr>\n",
              "            <td>Adelie </td> <td>Torgersen</td> <td>40.3          </td> <td>18           </td> <td>195              </td> <td>3250       </td> <td>Female</td>\n",
              "        </tr>\n",
              "        <tr>\n",
              "            <td>Adelie </td> <td>Torgersen</td> <td>36.7          </td> <td>19.3         </td> <td>193              </td> <td>3450       </td> <td>Female</td>\n",
              "        </tr>\n",
              "        <tr>\n",
              "            <td>Adelie </td> <td>Torgersen</td> <td>39.3          </td> <td>20.6         </td> <td>190              </td> <td>3650       </td> <td>Male  </td>\n",
              "        </tr>\n",
              "        <tr>\n",
              "            <td>Adelie </td> <td>Torgersen</td> <td>38.9          </td> <td>17.8         </td> <td>181              </td> <td>3625       </td> <td>Female</td>\n",
              "        </tr>\n",
              "        <tr>\n",
              "            <td>Adelie </td> <td>Torgersen</td> <td>39.2          </td> <td>19.6         </td> <td>195              </td> <td>4675       </td> <td>Male  </td>\n",
              "        </tr>\n",
              "        <tr>\n",
              "            <td>Adelie </td> <td>Torgersen</td> <td>41.1          </td> <td>17.6         </td> <td>182              </td> <td>3200       </td> <td>Female</td>\n",
              "        </tr>\n",
              "        <tr>\n",
              "            <td>Adelie </td> <td>Torgersen</td> <td>38.6          </td> <td>21.2         </td> <td>191              </td> <td>3800       </td> <td>Male  </td>\n",
              "        </tr>\n",
              "        <tr>\n",
              "            <td>Adelie </td> <td>Torgersen</td> <td>34.6          </td> <td>21.1         </td> <td>198              </td> <td>4400       </td> <td>Male  </td>\n",
              "        </tr>\n",
              "    </tbody>\n",
              "</table>\n",
              "<p>... (323 rows omitted)</p>"
            ]
          },
          "metadata": {},
          "execution_count": 7
        }
      ],
      "source": [
        "# Run this cell!\n",
        "penguins = Table.read_table(\"data/penguins.csv\")\n",
        "penguins"
      ]
    },
    {
      "cell_type": "markdown",
      "metadata": {
        "id": "6QbzCviKS5fr"
      },
      "source": [
        "Let's make sure we understand what each of the columns in our data represents before proceeding.\n",
        "\n",
        "- **`\"species\"`** There are three species of penguin in our dataset: Adelie, Chinstrap, and Gentoo.\n",
        "\n",
        "  <img src='https://wsu-courses.s3.amazonaws.com/fall2022/cais105/assignment6/lter_penguins.png' width=300>\n",
        "\n",
        "- **`\"island\"`** The penguins in our dataset come from three islands: Biscoe, Dream, and Torgersen. An image of these islands can be found [here](https://journals.plos.org/plosone/article/figure?id=10.1371/journal.pone.0090081.g001).\n",
        "\n",
        "- **`\"bill_length_mm\"`** and **`\"bill_depth_mm\"`**: See the illustration below.\n",
        "  \n",
        "  <img src='https://wsu-courses.s3.amazonaws.com/fall2022/cais105/assignment6/culmen_depth.png' width=250>\n",
        "\n",
        "- **`\"flipper_length_mm\"`**: [Flippers](https://www.thespruce.com/flipper-definition-penguin-wings-385251) are the equivalent of wings on penguins. \n",
        "\n",
        "- **`\"body_mass_g\"`** The body mass of the penguin, in grams\n",
        "\n",
        "- **`\"sex\"`**: The sex of the penguin"
      ]
    },
    {
      "cell_type": "markdown",
      "metadata": {
        "id": "IRNaI9D4S5ft"
      },
      "source": [
        "## Question 1: The [barh](http://data8.org/datascience/_autosummary/datascience.tables.Table.barh.html#datascience.tables.Table.barh) method\n",
        "\n",
        "The `barh` (horizontal bar chart) method is used to visualize **categorical** variable values. Categorical variables are non-numbers, like names and qualities (Color, State Names, etc.). As we saw in lecture, categorical variables come in 2 different types: *ordinal* and *nominal*. Read [Chapter 7](https://inferentialthinking.com/chapters/07/Visualization.html) for further details on the difference between the two types.\n",
        "\n",
        "The `barh` method takes in 1 mandatory argument, which is the **name of the column** you want on the left (vertical) axis of your `barh` plot. There are also optional arguments that have to do with plotting -- you'll see examples of those in this lab and in the homework. The remaining optional arguments in the `datascience` documentation linked above can also be used, feel free to try out some of the others on your own!\n",
        "\n",
        "To use the `barh` method properly, we first need to select the columns we want to see in the graph. We should not call `barh` directly on a large `Table` because without specifying a column, we get a bar graph for every single instance of every single variable, which you can imagine results in a lot of bar graphs.\n"
      ]
    },
    {
      "cell_type": "markdown",
      "metadata": {
        "id": "3-39fXn9S5fu"
      },
      "source": [
        "**Question 1.1.** Let's start by visualizing the distribution of the islands from which the penguins in our dataset come. A bar chart is suitable for this visualization because the island data is categorical.\n",
        "\n",
        "First, create an `island_count` table that contains the number of penguins from each island (you can use the `group` method for this).\n",
        "\n",
        "<img src=\"https://wsu-courses.s3.amazonaws.com/fall2022/cais105/assignment6/examples/q1a-table.png\">\n",
        "\n",
        "Then create the bar graph, your graph should look similar to this: \n",
        "\n",
        "<img src=\"https://wsu-courses.s3.amazonaws.com/fall2022/cais105/assignment6/examples/q1a.png\">\n",
        "\n"
      ]
    },
    {
      "cell_type": "code",
      "execution_count": 8,
      "metadata": {
        "tags": [],
        "colab": {
          "base_uri": "https://localhost:8080/",
          "height": 143
        },
        "id": "7wZJZAfTS5fu",
        "outputId": "017ebf6b-bde2-433c-eb76-5dd197c0db01"
      },
      "outputs": [
        {
          "output_type": "execute_result",
          "data": {
            "text/plain": [
              "island    | count\n",
              "Biscoe    | 163\n",
              "Dream     | 123\n",
              "Torgersen | 47"
            ],
            "text/html": [
              "<table border=\"1\" class=\"dataframe\">\n",
              "    <thead>\n",
              "        <tr>\n",
              "            <th>island</th> <th>count</th>\n",
              "        </tr>\n",
              "    </thead>\n",
              "    <tbody>\n",
              "        <tr>\n",
              "            <td>Biscoe   </td> <td>163  </td>\n",
              "        </tr>\n",
              "        <tr>\n",
              "            <td>Dream    </td> <td>123  </td>\n",
              "        </tr>\n",
              "        <tr>\n",
              "            <td>Torgersen</td> <td>47   </td>\n",
              "        </tr>\n",
              "    </tbody>\n",
              "</table>"
            ]
          },
          "metadata": {},
          "execution_count": 8
        }
      ],
      "source": [
        "# create a table island_count that contains the count of the penguins on each island\n",
        "island_count = penguins.group(\"island\")\n",
        "island_count"
      ]
    },
    {
      "cell_type": "code",
      "execution_count": 9,
      "metadata": {
        "tags": [],
        "colab": {
          "base_uri": "https://localhost:8080/",
          "height": 281
        },
        "id": "ydmAlTPqS5fv",
        "outputId": "78e7e9ee-f4bc-4cad-8f29-362cb839e07f"
      },
      "outputs": [
        {
          "output_type": "display_data",
          "data": {
            "text/plain": [
              "<Figure size 432x288 with 1 Axes>"
            ],
            "image/png": "[encoded data removed]"
          },
          "metadata": {
            "needs_background": "light"
          }
        }
      ],
      "source": [
        "# Write the code to show a horizontal bar graph showing the number of penguins in each island.\n",
        "island_count = penguins.group(\"island\").barh(\"island\")\n",
        "island_count"
      ]
    },
    {
      "cell_type": "code",
      "execution_count": 10,
      "metadata": {
        "deletable": false,
        "editable": false,
        "colab": {
          "base_uri": "https://localhost:8080/",
          "height": 538
        },
        "id": "SqMI0mvcS5fv",
        "outputId": "6eb7bc1a-b014-4203-da63-0ca3d3f47480"
      },
      "outputs": [
        {
          "output_type": "execute_result",
          "data": {
            "text/plain": [
              "q1a results:\n",
              "    q1a - 1 result:\n",
              "        ❌ Test case failed\n",
              "        Trying:\n",
              "            island_count.num_columns == 2 and island_count.num_rows == 3 and np.sum(island_count.column(1)) == 333\n",
              "        Expecting:\n",
              "            True\n",
              "        **********************************************************************\n",
              "        Line 1, in q1a 0\n",
              "        Failed example:\n",
              "            island_count.num_columns == 2 and island_count.num_rows == 3 and np.sum(island_count.column(1)) == 333\n",
              "        Exception raised:\n",
              "            Traceback (most recent call last):\n",
              "              File \"/usr/lib/python3.7/doctest.py\", line 1337, in __run\n",
              "                compileflags, 1), test.globs)\n",
              "              File \"<doctest q1a 0[0]>\", line 1, in <module>\n",
              "                island_count.num_columns == 2 and island_count.num_rows == 3 and np.sum(island_count.column(1)) == 333\n",
              "            AttributeError: 'NoneType' object has no attribute 'num_columns'\n",
              "\n",
              "        PYDEV DEBUGGER WARNING:\n",
              "        sys.settrace() should not be used when the debugger is being used.\n",
              "        This may cause the debugger to stop working correctly.\n",
              "        If this is needed, please check: \n",
              "        http://pydev.blogspot.com/2007/06/why-cant-pydev-debugger-work-with.html\n",
              "        to see how to restore the debug tracing back correctly.\n",
              "        Call Location:\n",
              "          File \"/usr/lib/python3.7/doctest.py\", line 1487, in run\n",
              "            sys.settrace(save_trace)"
            ],
            "text/html": [
              "<p><strong style='color: red;'><pre style='display: inline;'>q1a</pre> results:</strong></p><p><strong><pre style='display: inline;'>q1a - 1</pre> result:</strong></p><pre>    ❌ Test case failed\n",
              "    Trying:\n",
              "        island_count.num_columns == 2 and island_count.num_rows == 3 and np.sum(island_count.column(1)) == 333\n",
              "    Expecting:\n",
              "        True\n",
              "    **********************************************************************\n",
              "    Line 1, in q1a 0\n",
              "    Failed example:\n",
              "        island_count.num_columns == 2 and island_count.num_rows == 3 and np.sum(island_count.column(1)) == 333\n",
              "    Exception raised:\n",
              "        Traceback (most recent call last):\n",
              "          File \"/usr/lib/python3.7/doctest.py\", line 1337, in __run\n",
              "            compileflags, 1), test.globs)\n",
              "          File \"<doctest q1a 0[0]>\", line 1, in <module>\n",
              "            island_count.num_columns == 2 and island_count.num_rows == 3 and np.sum(island_count.column(1)) == 333\n",
              "        AttributeError: 'NoneType' object has no attribute 'num_columns'\n",
              "\n",
              "    PYDEV DEBUGGER WARNING:\n",
              "    sys.settrace() should not be used when the debugger is being used.\n",
              "    This may cause the debugger to stop working correctly.\n",
              "    If this is needed, please check: \n",
              "    http://pydev.blogspot.com/2007/06/why-cant-pydev-debugger-work-with.html\n",
              "    to see how to restore the debug tracing back correctly.\n",
              "    Call Location:\n",
              "      File \"/usr/lib/python3.7/doctest.py\", line 1487, in run\n",
              "        sys.settrace(save_trace)\n",
              "\n",
              "</pre>"
            ]
          },
          "metadata": {},
          "execution_count": 10
        }
      ],
      "source": [
        "grader.check(\"q1a\")"
      ]
    },
    {
      "cell_type": "markdown",
      "metadata": {
        "id": "fLviC-n5S5fw"
      },
      "source": [
        "**Question 1.2.**: Plot a horizontal bar chart that shows the number of penguins of each species. Similar to the previous question, you should first create a table that contains the number of penguins in each species.\n",
        "\n",
        "<img src=\"https://wsu-courses.s3.amazonaws.com/fall2022/cais105/assignment6/examples/q1b-table.png\">\n",
        "\n",
        "Your graph should look similar to this: \n",
        "\n",
        "<img src=\"https://wsu-courses.s3.amazonaws.com/fall2022/cais105/assignment6/examples/q1b.png\">"
      ]
    },
    {
      "cell_type": "code",
      "execution_count": 11,
      "metadata": {
        "tags": [],
        "colab": {
          "base_uri": "https://localhost:8080/",
          "height": 143
        },
        "id": "OcnuuMo1S5fw",
        "outputId": "cc1bcab0-ab69-4af8-9450-b5a226ef5ce4"
      },
      "outputs": [
        {
          "output_type": "execute_result",
          "data": {
            "text/plain": [
              "species   | count\n",
              "Adelie    | 146\n",
              "Chinstrap | 68\n",
              "Gentoo    | 119"
            ],
            "text/html": [
              "<table border=\"1\" class=\"dataframe\">\n",
              "    <thead>\n",
              "        <tr>\n",
              "            <th>species</th> <th>count</th>\n",
              "        </tr>\n",
              "    </thead>\n",
              "    <tbody>\n",
              "        <tr>\n",
              "            <td>Adelie   </td> <td>146  </td>\n",
              "        </tr>\n",
              "        <tr>\n",
              "            <td>Chinstrap</td> <td>68   </td>\n",
              "        </tr>\n",
              "        <tr>\n",
              "            <td>Gentoo   </td> <td>119  </td>\n",
              "        </tr>\n",
              "    </tbody>\n",
              "</table>"
            ]
          },
          "metadata": {},
          "execution_count": 11
        }
      ],
      "source": [
        "# create a table species_count that contains the count of the penguins on each island\n",
        "species_count = penguins.group(\"species\")\n",
        "species_count"
      ]
    },
    {
      "cell_type": "code",
      "execution_count": 12,
      "metadata": {
        "tags": [],
        "colab": {
          "base_uri": "https://localhost:8080/",
          "height": 281
        },
        "id": "RDPgVyh_S5fx",
        "outputId": "66e7bd47-7be5-4142-93cd-10c8841119cb"
      },
      "outputs": [
        {
          "output_type": "display_data",
          "data": {
            "text/plain": [
              "<Figure size 432x288 with 1 Axes>"
            ],
            "image/png": "[encoded data removed]"
          },
          "metadata": {
            "needs_background": "light"
          }
        }
      ],
      "source": [
        "# Write the code to create the horizontal bar graph for the species count\n",
        "species_count.barh(\"species\")"
      ]
    },
    {
      "cell_type": "code",
      "execution_count": 13,
      "metadata": {
        "deletable": false,
        "editable": false,
        "colab": {
          "base_uri": "https://localhost:8080/",
          "height": 46
        },
        "id": "WZt6-KerS5fx",
        "outputId": "48c03c39-7082-49c2-f32a-f6b5fcfeb4e6"
      },
      "outputs": [
        {
          "output_type": "execute_result",
          "data": {
            "text/plain": [
              "q1b results: All test cases passed!"
            ],
            "text/html": [
              "<p><strong><pre style='display: inline;'>q1b</pre></strong> passed! 🌈</p>"
            ]
          },
          "metadata": {},
          "execution_count": 13
        }
      ],
      "source": [
        "grader.check(\"q1b\")"
      ]
    },
    {
      "cell_type": "markdown",
      "metadata": {
        "id": "eA2vf-7US5fx"
      },
      "source": [
        "**Question 1.3** You want to make it easier for the user to identify the species with the highest number of penguins. Create a bar graph where the bars start from the longest at the top and the shortest at the bottom. You can use the `sort` method to sort the table by the number of penguins. The sorted table should look like below:\n",
        "\n",
        "<img src=\"https://wsu-courses.s3.amazonaws.com/fall2022/cais105/assignment6/examples/q1c-table.png\">\n",
        "\n",
        "Your graph should look similar to this: \n",
        "\n",
        "<img src=\"https://wsu-courses.s3.amazonaws.com/fall2022/cais105/assignment6/examples/q1c.png\">"
      ]
    },
    {
      "cell_type": "code",
      "execution_count": 14,
      "metadata": {
        "tags": [],
        "colab": {
          "base_uri": "https://localhost:8080/",
          "height": 143
        },
        "id": "kqWfdgAxS5fy",
        "outputId": "2f6a3a4e-1b9a-4d16-94b0-bd77da5fed62"
      },
      "outputs": [
        {
          "output_type": "execute_result",
          "data": {
            "text/plain": [
              "species   | count\n",
              "Adelie    | 146\n",
              "Gentoo    | 119\n",
              "Chinstrap | 68"
            ],
            "text/html": [
              "<table border=\"1\" class=\"dataframe\">\n",
              "    <thead>\n",
              "        <tr>\n",
              "            <th>species</th> <th>count</th>\n",
              "        </tr>\n",
              "    </thead>\n",
              "    <tbody>\n",
              "        <tr>\n",
              "            <td>Adelie   </td> <td>146  </td>\n",
              "        </tr>\n",
              "        <tr>\n",
              "            <td>Gentoo   </td> <td>119  </td>\n",
              "        </tr>\n",
              "        <tr>\n",
              "            <td>Chinstrap</td> <td>68   </td>\n",
              "        </tr>\n",
              "    </tbody>\n",
              "</table>"
            ]
          },
          "metadata": {},
          "execution_count": 14
        }
      ],
      "source": [
        "# create a sorted species count table\n",
        "sorted_species_count = penguins.group(\"species\").sort(\"count\", descending = True)\n",
        "sorted_species_count"
      ]
    },
    {
      "cell_type": "code",
      "execution_count": 15,
      "metadata": {
        "tags": [],
        "colab": {
          "base_uri": "https://localhost:8080/",
          "height": 298
        },
        "id": "ZSLJy1S0S5fy",
        "outputId": "afc216b9-0d3b-4026-a5d0-3a83e577e077"
      },
      "outputs": [
        {
          "output_type": "execute_result",
          "data": {
            "text/plain": [
              "Text(0.5, 0, 'Number of Penguins')"
            ]
          },
          "metadata": {},
          "execution_count": 15
        },
        {
          "output_type": "display_data",
          "data": {
            "text/plain": [
              "<Figure size 432x288 with 1 Axes>"
            ],
            "image/png": "[encoded data removed]"
          },
          "metadata": {
            "needs_background": "light"
          }
        }
      ],
      "source": [
        "# Write the code to create a horizontal bar graph for the sorted count\n",
        "sorted_species_count.barh(\"species\")\n",
        "\n",
        "# customize the x-axis label\n",
        "plt.xlabel(\"Number of Penguins\")"
      ]
    },
    {
      "cell_type": "code",
      "execution_count": 16,
      "metadata": {
        "deletable": false,
        "editable": false,
        "colab": {
          "base_uri": "https://localhost:8080/",
          "height": 46
        },
        "id": "VLljfaTHS5fz",
        "outputId": "a39a571a-9118-4f7f-bd24-0ec2fb614e1d"
      },
      "outputs": [
        {
          "output_type": "execute_result",
          "data": {
            "text/plain": [
              "q1c results: All test cases passed!"
            ],
            "text/html": [
              "<p><strong><pre style='display: inline;'>q1c</pre></strong> passed! 💯</p>"
            ]
          },
          "metadata": {},
          "execution_count": 16
        }
      ],
      "source": [
        "grader.check(\"q1c\")"
      ]
    },
    {
      "cell_type": "markdown",
      "metadata": {
        "id": "C-bNfJcQS5fz"
      },
      "source": [
        "**Question 1.4**: You also would like to customize the graph. Change the label of the x-axis to \"Number of Penguins\". Change the label of the y-axis to \"Species\". Change the title of the graph to \"Number of Penguins by Species\". Use the methods from pyplot to change the title, x-axis label, and y-axis label. \n",
        "\n",
        "For example, to change the x-axis label, you can use `plt.xlabel(\"Number of Penguins\")`.\n",
        "\n",
        "Your graph should look similar to this: \n",
        "\n",
        "<img src=\"https://wsu-courses.s3.amazonaws.com/fall2022/cais105/assignment6/examples/q1d.png\">"
      ]
    },
    {
      "cell_type": "code",
      "execution_count": 17,
      "metadata": {
        "tags": [],
        "colab": {
          "base_uri": "https://localhost:8080/",
          "height": 315
        },
        "id": "0TDVDpZoS5f0",
        "outputId": "71df41e0-6280-462c-9c18-b2b63faa71e6"
      },
      "outputs": [
        {
          "output_type": "execute_result",
          "data": {
            "text/plain": [
              "Text(0.5, 1.0, 'Number of Penguin by Species')"
            ]
          },
          "metadata": {},
          "execution_count": 17
        },
        {
          "output_type": "display_data",
          "data": {
            "text/plain": [
              "<Figure size 432x288 with 1 Axes>"
            ],
            "image/png": "[encoded data removed]"
          },
          "metadata": {
            "needs_background": "light"
          }
        }
      ],
      "source": [
        "# add the xlabel, ylabel, and title to the plot from the previous question\n",
        "sorted_species_count.barh(\"species\")\n",
        "plt.xlabel(\"Number of Penguins\")\n",
        "plt.ylabel(\"Species\")\n",
        "plt.title(\"Number of Penguin by Species\")\n"
      ]
    },
    {
      "cell_type": "markdown",
      "metadata": {
        "id": "orAd62sOS5f0"
      },
      "source": [
        "### Multiple Columns \n",
        "\n",
        "We can also use `barh` to see multiple statistics at once. Let's use the `barh` method to see the number of male and female penguins in each island. To visualize this, it is useful to draw them side-by-side so that we can compare the numbers easily. For this we will use overlay plots discussed in [section 7.3](https://inferentialthinking.com/chapters/07/3/Overlaid_Graphs.html).\n",
        "\n",
        "**Question 1.5.**: Plot a horizontal bar chart that shows the number male and female penguins in each island. Hint: You can use the `pivot` method to get these numbers first (this table looks like the one below), then use `barh`.\n",
        "\n",
        "Pivoted table:\n",
        "\n",
        "<img src=\"https://wsu-courses.s3.amazonaws.com/fall2022/cais105/assignment6/examples/mf_per_island.png\">\n",
        "\n",
        "Your graph should look similar to this: \n",
        "\n",
        "<img src=\"https://wsu-courses.s3.amazonaws.com/fall2022/cais105/assignment6/examples/q1e.png\">\n"
      ]
    },
    {
      "cell_type": "code",
      "execution_count": 18,
      "metadata": {
        "tags": [],
        "colab": {
          "base_uri": "https://localhost:8080/",
          "height": 0
        },
        "id": "XDf9DmGvS5f1",
        "outputId": "4d8558f1-0dec-40b0-c720-34e1abd7fddb"
      },
      "outputs": [
        {
          "output_type": "execute_result",
          "data": {
            "text/plain": [
              "island    | Female | Male\n",
              "Biscoe    | 80     | 83\n",
              "Dream     | 61     | 62\n",
              "Torgersen | 24     | 23"
            ],
            "text/html": [
              "<table border=\"1\" class=\"dataframe\">\n",
              "    <thead>\n",
              "        <tr>\n",
              "            <th>island</th> <th>Female</th> <th>Male</th>\n",
              "        </tr>\n",
              "    </thead>\n",
              "    <tbody>\n",
              "        <tr>\n",
              "            <td>Biscoe   </td> <td>80    </td> <td>83  </td>\n",
              "        </tr>\n",
              "        <tr>\n",
              "            <td>Dream    </td> <td>61    </td> <td>62  </td>\n",
              "        </tr>\n",
              "        <tr>\n",
              "            <td>Torgersen</td> <td>24    </td> <td>23  </td>\n",
              "        </tr>\n",
              "    </tbody>\n",
              "</table>"
            ]
          },
          "metadata": {},
          "execution_count": 18
        }
      ],
      "source": [
        "# use pivot to create the mf_per_island table shown in the screenshot above\n",
        "mf_per_island = penguins.pivot(\"sex\", \"island\")\n",
        "mf_per_island"
      ]
    },
    {
      "cell_type": "code",
      "execution_count": 19,
      "metadata": {
        "tags": [],
        "colab": {
          "base_uri": "https://localhost:8080/",
          "height": 0
        },
        "id": "-XTrgRTxS5f1",
        "outputId": "2409b14e-3dc8-4a66-efc5-19816a1ebd30"
      },
      "outputs": [
        {
          "output_type": "display_data",
          "data": {
            "text/plain": [
              "<Figure size 432x288 with 1 Axes>"
            ],
            "image/png": "[encoded data removed]"
          },
          "metadata": {
            "needs_background": "light"
          }
        }
      ],
      "source": [
        "# use the mf_per_island table to create the horizontal bar graph\n",
        "mf_per_island.barh(\"island\")"
      ]
    },
    {
      "cell_type": "code",
      "execution_count": 20,
      "metadata": {
        "deletable": false,
        "editable": false,
        "colab": {
          "base_uri": "https://localhost:8080/",
          "height": 0
        },
        "id": "4J7V-UOQS5f2",
        "outputId": "b1edd3d9-b501-42e4-aa7e-533c5a317749"
      },
      "outputs": [
        {
          "output_type": "execute_result",
          "data": {
            "text/plain": [
              "q1e results: All test cases passed!\n",
              "q1e - 1 message: Good job!"
            ],
            "text/html": [
              "<p><strong><pre style='display: inline;'>q1e</pre></strong> passed! 🚀</p><p><strong><pre style='display: inline;'>q1e - 1</pre> message:</strong> Good job!</p>"
            ]
          },
          "metadata": {},
          "execution_count": 20
        }
      ],
      "source": [
        "grader.check(\"q1e\")"
      ]
    },
    {
      "cell_type": "markdown",
      "metadata": {
        "id": "7UbZFVRTS5f2"
      },
      "source": [
        "If you set the optional `overlay` argument to `False`, a separate graph will be created for each of set of data. The default value of `overlay` is `True`, so if you don't give it a value, you will get a plot with all the included variables at once.\n",
        "\n",
        "In this case, what additional information do we get from an overlaid plot vs two separate plots? Can you think of a case where we might want to have two separate plots instead of one overlaid plot? (Hint: think about the units for both variables — are they the same or different?)"
      ]
    },
    {
      "cell_type": "markdown",
      "metadata": {
        "id": "5qROU2W5S5gB"
      },
      "source": [
        "### Interactive Visualizations\n",
        "\n",
        "If you are working with an interactive notebook, you can use the interactive visualizations instead. The visualizations of the Table class can be made interactive by calling the following method:\n",
        "\n",
        "```{python}\n",
        "Table.interactive_plots()\n",
        "```\n",
        "\n",
        "The visualization will use the interactive `plotly` library instead so that you can interact with them by hovering over or clicking on the bars."
      ]
    },
    {
      "cell_type": "code",
      "execution_count": 21,
      "metadata": {
        "colab": {
          "base_uri": "https://localhost:8080/",
          "height": 517
        },
        "id": "2CwEOUPmS5gB",
        "outputId": "7632048d-6f9b-4987-b011-21e85b5792aa"
      },
      "outputs": [
        {
          "output_type": "display_data",
          "data": {
            "text/html": [
              "<html>\n",
              "<head><meta charset=\"utf-8\" /></head>\n",
              "<body>\n",
              "    <div>            <script src=\"https://cdnjs.cloudflare.com/ajax/libs/mathjax/2.7.5/MathJax.js?config=TeX-AMS-MML_SVG\"></script><script type=\"text/javascript\">if (window.MathJax) {MathJax.Hub.Config({SVG: {font: \"STIX-Web\"}});}</script>                <script type=\"text/javascript\">window.PlotlyConfig = {MathJaxConfig: 'local'};</script>\n",
              "        <script src=\"https://cdn.plot.ly/plotly-2.8.3.min.js\"></script>                <div id=\"0e0417cf-1cfe-4792-8dce-ebf3259971f4\" class=\"plotly-graph-div\" style=\"height:500px; width:800px;\"></div>            <script type=\"text/javascript\">                                    window.PLOTLYENV=window.PLOTLYENV || {};                                    if (document.getElementById(\"0e0417cf-1cfe-4792-8dce-ebf3259971f4\")) {                    Plotly.newPlot(                        \"0e0417cf-1cfe-4792-8dce-ebf3259971f4\",                        [{\"customdata\":[\"Torgersen\",\"Dream\",\"Biscoe\"],\"hovertemplate\":\"(%{x}, %{customdata})\",\"marker\":{\"color\":\"rgb(0,30,66)\"},\"name\":\"Adelie\",\"opacity\":0.7,\"orientation\":\"h\",\"x\":[47,55,44],\"y\":[\"Torgersen  \",\"Dream  \",\"Biscoe  \"],\"type\":\"bar\"},{\"customdata\":[\"Torgersen\",\"Dream\",\"Biscoe\"],\"hovertemplate\":\"(%{x}, %{customdata})\",\"marker\":{\"color\":\"rgb(256,200,44)\"},\"name\":\"Chinstrap\",\"opacity\":0.7,\"orientation\":\"h\",\"x\":[0,68,0],\"y\":[\"Torgersen  \",\"Dream  \",\"Biscoe  \"],\"type\":\"bar\"},{\"customdata\":[\"Torgersen\",\"Dream\",\"Biscoe\"],\"hovertemplate\":\"(%{x}, %{customdata})\",\"marker\":{\"color\":\"rgb(0,150,207)\"},\"name\":\"Gentoo\",\"opacity\":0.7,\"orientation\":\"h\",\"x\":[0,0,119],\"y\":[\"Torgersen  \",\"Dream  \",\"Biscoe  \"],\"type\":\"bar\"}],                        {\"template\":{\"data\":{\"bar\":[{\"error_x\":{\"color\":\"#2a3f5f\"},\"error_y\":{\"color\":\"#2a3f5f\"},\"marker\":{\"line\":{\"color\":\"#E5ECF6\",\"width\":0.5},\"pattern\":{\"fillmode\":\"overlay\",\"size\":10,\"solidity\":0.2}},\"type\":\"bar\"}],\"barpolar\":[{\"marker\":{\"line\":{\"color\":\"#E5ECF6\",\"width\":0.5},\"pattern\":{\"fillmode\":\"overlay\",\"size\":10,\"solidity\":0.2}},\"type\":\"barpolar\"}],\"carpet\":[{\"aaxis\":{\"endlinecolor\":\"#2a3f5f\",\"gridcolor\":\"white\",\"linecolor\":\"white\",\"minorgridcolor\":\"white\",\"startlinecolor\":\"#2a3f5f\"},\"baxis\":{\"endlinecolor\":\"#2a3f5f\",\"gridcolor\":\"white\",\"linecolor\":\"white\",\"minorgridcolor\":\"white\",\"startlinecolor\":\"#2a3f5f\"},\"type\":\"carpet\"}],\"choropleth\":[{\"colorbar\":{\"outlinewidth\":0,\"ticks\":\"\"},\"type\":\"choropleth\"}],\"contour\":[{\"colorbar\":{\"outlinewidth\":0,\"ticks\":\"\"},\"colorscale\":[[0.0,\"#0d0887\"],[0.1111111111111111,\"#46039f\"],[0.2222222222222222,\"#7201a8\"],[0.3333333333333333,\"#9c179e\"],[0.4444444444444444,\"#bd3786\"],[0.5555555555555556,\"#d8576b\"],[0.6666666666666666,\"#ed7953\"],[0.7777777777777778,\"#fb9f3a\"],[0.8888888888888888,\"#fdca26\"],[1.0,\"#f0f921\"]],\"type\":\"contour\"}],\"contourcarpet\":[{\"colorbar\":{\"outlinewidth\":0,\"ticks\":\"\"},\"type\":\"contourcarpet\"}],\"heatmap\":[{\"colorbar\":{\"outlinewidth\":0,\"ticks\":\"\"},\"colorscale\":[[0.0,\"#0d0887\"],[0.1111111111111111,\"#46039f\"],[0.2222222222222222,\"#7201a8\"],[0.3333333333333333,\"#9c179e\"],[0.4444444444444444,\"#bd3786\"],[0.5555555555555556,\"#d8576b\"],[0.6666666666666666,\"#ed7953\"],[0.7777777777777778,\"#fb9f3a\"],[0.8888888888888888,\"#fdca26\"],[1.0,\"#f0f921\"]],\"type\":\"heatmap\"}],\"heatmapgl\":[{\"colorbar\":{\"outlinewidth\":0,\"ticks\":\"\"},\"colorscale\":[[0.0,\"#0d0887\"],[0.1111111111111111,\"#46039f\"],[0.2222222222222222,\"#7201a8\"],[0.3333333333333333,\"#9c179e\"],[0.4444444444444444,\"#bd3786\"],[0.5555555555555556,\"#d8576b\"],[0.6666666666666666,\"#ed7953\"],[0.7777777777777778,\"#fb9f3a\"],[0.8888888888888888,\"#fdca26\"],[1.0,\"#f0f921\"]],\"type\":\"heatmapgl\"}],\"histogram\":[{\"marker\":{\"pattern\":{\"fillmode\":\"overlay\",\"size\":10,\"solidity\":0.2}},\"type\":\"histogram\"}],\"histogram2d\":[{\"colorbar\":{\"outlinewidth\":0,\"ticks\":\"\"},\"colorscale\":[[0.0,\"#0d0887\"],[0.1111111111111111,\"#46039f\"],[0.2222222222222222,\"#7201a8\"],[0.3333333333333333,\"#9c179e\"],[0.4444444444444444,\"#bd3786\"],[0.5555555555555556,\"#d8576b\"],[0.6666666666666666,\"#ed7953\"],[0.7777777777777778,\"#fb9f3a\"],[0.8888888888888888,\"#fdca26\"],[1.0,\"#f0f921\"]],\"type\":\"histogram2d\"}],\"histogram2dcontour\":[{\"colorbar\":{\"outlinewidth\":0,\"ticks\":\"\"},\"colorscale\":[[0.0,\"#0d0887\"],[0.1111111111111111,\"#46039f\"],[0.2222222222222222,\"#7201a8\"],[0.3333333333333333,\"#9c179e\"],[0.4444444444444444,\"#bd3786\"],[0.5555555555555556,\"#d8576b\"],[0.6666666666666666,\"#ed7953\"],[0.7777777777777778,\"#fb9f3a\"],[0.8888888888888888,\"#fdca26\"],[1.0,\"#f0f921\"]],\"type\":\"histogram2dcontour\"}],\"mesh3d\":[{\"colorbar\":{\"outlinewidth\":0,\"ticks\":\"\"},\"type\":\"mesh3d\"}],\"parcoords\":[{\"line\":{\"colorbar\":{\"outlinewidth\":0,\"ticks\":\"\"}},\"type\":\"parcoords\"}],\"pie\":[{\"automargin\":true,\"type\":\"pie\"}],\"scatter\":[{\"marker\":{\"colorbar\":{\"outlinewidth\":0,\"ticks\":\"\"}},\"type\":\"scatter\"}],\"scatter3d\":[{\"line\":{\"colorbar\":{\"outlinewidth\":0,\"ticks\":\"\"}},\"marker\":{\"colorbar\":{\"outlinewidth\":0,\"ticks\":\"\"}},\"type\":\"scatter3d\"}],\"scattercarpet\":[{\"marker\":{\"colorbar\":{\"outlinewidth\":0,\"ticks\":\"\"}},\"type\":\"scattercarpet\"}],\"scattergeo\":[{\"marker\":{\"colorbar\":{\"outlinewidth\":0,\"ticks\":\"\"}},\"type\":\"scattergeo\"}],\"scattergl\":[{\"marker\":{\"colorbar\":{\"outlinewidth\":0,\"ticks\":\"\"}},\"type\":\"scattergl\"}],\"scattermapbox\":[{\"marker\":{\"colorbar\":{\"outlinewidth\":0,\"ticks\":\"\"}},\"type\":\"scattermapbox\"}],\"scatterpolar\":[{\"marker\":{\"colorbar\":{\"outlinewidth\":0,\"ticks\":\"\"}},\"type\":\"scatterpolar\"}],\"scatterpolargl\":[{\"marker\":{\"colorbar\":{\"outlinewidth\":0,\"ticks\":\"\"}},\"type\":\"scatterpolargl\"}],\"scatterternary\":[{\"marker\":{\"colorbar\":{\"outlinewidth\":0,\"ticks\":\"\"}},\"type\":\"scatterternary\"}],\"surface\":[{\"colorbar\":{\"outlinewidth\":0,\"ticks\":\"\"},\"colorscale\":[[0.0,\"#0d0887\"],[0.1111111111111111,\"#46039f\"],[0.2222222222222222,\"#7201a8\"],[0.3333333333333333,\"#9c179e\"],[0.4444444444444444,\"#bd3786\"],[0.5555555555555556,\"#d8576b\"],[0.6666666666666666,\"#ed7953\"],[0.7777777777777778,\"#fb9f3a\"],[0.8888888888888888,\"#fdca26\"],[1.0,\"#f0f921\"]],\"type\":\"surface\"}],\"table\":[{\"cells\":{\"fill\":{\"color\":\"#EBF0F8\"},\"line\":{\"color\":\"white\"}},\"header\":{\"fill\":{\"color\":\"#C8D4E3\"},\"line\":{\"color\":\"white\"}},\"type\":\"table\"}]},\"layout\":{\"annotationdefaults\":{\"arrowcolor\":\"#2a3f5f\",\"arrowhead\":0,\"arrowwidth\":1},\"autotypenumbers\":\"strict\",\"coloraxis\":{\"colorbar\":{\"outlinewidth\":0,\"ticks\":\"\"}},\"colorscale\":{\"diverging\":[[0,\"#8e0152\"],[0.1,\"#c51b7d\"],[0.2,\"#de77ae\"],[0.3,\"#f1b6da\"],[0.4,\"#fde0ef\"],[0.5,\"#f7f7f7\"],[0.6,\"#e6f5d0\"],[0.7,\"#b8e186\"],[0.8,\"#7fbc41\"],[0.9,\"#4d9221\"],[1,\"#276419\"]],\"sequential\":[[0.0,\"#0d0887\"],[0.1111111111111111,\"#46039f\"],[0.2222222222222222,\"#7201a8\"],[0.3333333333333333,\"#9c179e\"],[0.4444444444444444,\"#bd3786\"],[0.5555555555555556,\"#d8576b\"],[0.6666666666666666,\"#ed7953\"],[0.7777777777777778,\"#fb9f3a\"],[0.8888888888888888,\"#fdca26\"],[1.0,\"#f0f921\"]],\"sequentialminus\":[[0.0,\"#0d0887\"],[0.1111111111111111,\"#46039f\"],[0.2222222222222222,\"#7201a8\"],[0.3333333333333333,\"#9c179e\"],[0.4444444444444444,\"#bd3786\"],[0.5555555555555556,\"#d8576b\"],[0.6666666666666666,\"#ed7953\"],[0.7777777777777778,\"#fb9f3a\"],[0.8888888888888888,\"#fdca26\"],[1.0,\"#f0f921\"]]},\"colorway\":[\"#636efa\",\"#EF553B\",\"#00cc96\",\"#ab63fa\",\"#FFA15A\",\"#19d3f3\",\"#FF6692\",\"#B6E880\",\"#FF97FF\",\"#FECB52\"],\"font\":{\"color\":\"#2a3f5f\"},\"geo\":{\"bgcolor\":\"white\",\"lakecolor\":\"white\",\"landcolor\":\"#E5ECF6\",\"showlakes\":true,\"showland\":true,\"subunitcolor\":\"white\"},\"hoverlabel\":{\"align\":\"left\"},\"hovermode\":\"closest\",\"mapbox\":{\"style\":\"light\"},\"paper_bgcolor\":\"white\",\"plot_bgcolor\":\"#E5ECF6\",\"polar\":{\"angularaxis\":{\"gridcolor\":\"white\",\"linecolor\":\"white\",\"ticks\":\"\"},\"bgcolor\":\"#E5ECF6\",\"radialaxis\":{\"gridcolor\":\"white\",\"linecolor\":\"white\",\"ticks\":\"\"}},\"scene\":{\"xaxis\":{\"backgroundcolor\":\"#E5ECF6\",\"gridcolor\":\"white\",\"gridwidth\":2,\"linecolor\":\"white\",\"showbackground\":true,\"ticks\":\"\",\"zerolinecolor\":\"white\"},\"yaxis\":{\"backgroundcolor\":\"#E5ECF6\",\"gridcolor\":\"white\",\"gridwidth\":2,\"linecolor\":\"white\",\"showbackground\":true,\"ticks\":\"\",\"zerolinecolor\":\"white\"},\"zaxis\":{\"backgroundcolor\":\"#E5ECF6\",\"gridcolor\":\"white\",\"gridwidth\":2,\"linecolor\":\"white\",\"showbackground\":true,\"ticks\":\"\",\"zerolinecolor\":\"white\"}},\"shapedefaults\":{\"line\":{\"color\":\"#2a3f5f\"}},\"ternary\":{\"aaxis\":{\"gridcolor\":\"white\",\"linecolor\":\"white\",\"ticks\":\"\"},\"baxis\":{\"gridcolor\":\"white\",\"linecolor\":\"white\",\"ticks\":\"\"},\"bgcolor\":\"#E5ECF6\",\"caxis\":{\"gridcolor\":\"white\",\"linecolor\":\"white\",\"ticks\":\"\"}},\"title\":{\"x\":0.05},\"xaxis\":{\"automargin\":true,\"gridcolor\":\"white\",\"linecolor\":\"white\",\"ticks\":\"\",\"title\":{\"standoff\":15},\"zerolinecolor\":\"white\",\"zerolinewidth\":2},\"yaxis\":{\"automargin\":true,\"gridcolor\":\"white\",\"linecolor\":\"white\",\"ticks\":\"\",\"title\":{\"standoff\":15},\"zerolinecolor\":\"white\",\"zerolinewidth\":2}}},\"width\":800,\"height\":500,\"yaxis\":{\"title\":{\"text\":\"island\"},\"type\":\"category\",\"dtick\":1,\"showticklabels\":true}},                        {\"responsive\": true}                    ).then(function(){\n",
              "                            \n",
              "var gd = document.getElementById('0e0417cf-1cfe-4792-8dce-ebf3259971f4');\n",
              "var x = new MutationObserver(function (mutations, observer) {{\n",
              "        var display = window.getComputedStyle(gd).display;\n",
              "        if (!display || display === 'none') {{\n",
              "            console.log([gd, 'removed!']);\n",
              "            Plotly.purge(gd);\n",
              "            observer.disconnect();\n",
              "        }}\n",
              "}});\n",
              "\n",
              "// Listen for the removal of the full notebook cells\n",
              "var notebookContainer = gd.closest('#notebook-container');\n",
              "if (notebookContainer) {{\n",
              "    x.observe(notebookContainer, {childList: true});\n",
              "}}\n",
              "\n",
              "// Listen for the clearing of the current output cell\n",
              "var outputEl = gd.closest('.output');\n",
              "if (outputEl) {{\n",
              "    x.observe(outputEl, {childList: true});\n",
              "}}\n",
              "\n",
              "                        })                };                            </script>        </div>\n",
              "</body>\n",
              "</html>"
            ]
          },
          "metadata": {}
        }
      ],
      "source": [
        "# example interactive plot\n",
        "Table.interactive_plots()\n",
        "penguins.groups([\"island\", \"species\"]).pivot(\"species\", \"island\", \"count\", np.sum).barh(\"island\", np.unique(penguins[\"species\"]), width=800)"
      ]
    },
    {
      "cell_type": "code",
      "execution_count": 22,
      "metadata": {
        "id": "NY7YST8ZS5gC"
      },
      "outputs": [],
      "source": [
        "# Just run this cell to return to static visualization\n",
        "Table.static_plots()"
      ]
    },
    {
      "cell_type": "markdown",
      "metadata": {
        "id": "GekOORwHS5gC"
      },
      "source": [
        "## Question 2: The [hist](http://data8.org/datascience/_autosummary/datascience.tables.Table.hist.html#datascience.tables.Table.hist) method\n",
        "\n",
        "Great! Now that we've explored the distributions of some of the categorical variables in our dataset (species and island), it's time to study the distributions of some of the numerical variables. As covered in [Section 7.2 of the textbook](https://inferentialthinking.com/chapters/07/2/Visualizing_Numerical_Distributions.html), we can visualize a numerical distribution by creating a histogram using the `hist` method.\n",
        "\n",
        "The `hist` method takes in 1 mandatory argument and has several optional arguments (as is the case with `barh`, there are many other optional arguments, but here are just a few of them). \n",
        "\n",
        "| **Argument** | **Description** | **Type** | **Mandatory?** |\n",
        "| -- | -- | -- | -- |\n",
        "| `column` | Column name whose values you want on the x-axis of your plot | Column name (string) | Yes |\n",
        "| `density` | If `True`, then the resulting plot will be displayed not on the count of a value, but on the density of that value in the Table | boolean | No |\n",
        "| `group` | Similar to the Table method `group`, groups rows by this label before plotting | Column name (string) | No |\n",
        "| `overlay` | When `False`, make a new plot for each eligible statistic in the Table | boolean | No |\n",
        "| `bins` | A NumPy array of bin boundaries you want your histogram to gather data into | array | No |\n",
        "| `unit` |  A name for the units of the plotted column | Column name (string) | No |\n",
        "\n",
        "Let's take a look at the distribution of exercise sessions in different states to see how the `hist` method helps visualize numerical variables."
      ]
    },
    {
      "cell_type": "markdown",
      "metadata": {
        "id": "FUorXoZmS5gD"
      },
      "source": [
        "**Question 2.1** Create a histogram that shows the **distribution of penguin body mass (in grams)** for all the penguins in the `penguins` table. Use the bins provided below. Set `density` to `False` so that the histogram is showing the counts instead of the density.\n",
        "\n",
        "Your graph should look similar to this: \n",
        "\n",
        "<img src=\"https://wsu-courses.s3.amazonaws.com/fall2022/cais105/assignment6/examples/q2a.png\">\n"
      ]
    },
    {
      "cell_type": "code",
      "execution_count": 23,
      "metadata": {
        "tags": [],
        "colab": {
          "base_uri": "https://localhost:8080/",
          "height": 282
        },
        "id": "mmJSAOimS5gD",
        "outputId": "89bad0a7-a0a0-4f72-8574-0bfa286cf23e"
      },
      "outputs": [
        {
          "output_type": "display_data",
          "data": {
            "text/plain": [
              "<Figure size 432x288 with 1 Axes>"
            ],
            "image/png": "[encoded data removed]"
          },
          "metadata": {
            "needs_background": "light"
          }
        }
      ],
      "source": [
        "# setup bins of 500g each starting from 2000g, ending at 7000g\n",
        "wt_bins = np.arange(2000,7001, 500) \n",
        "\n",
        "# Write the code that uses the bins to create a histogram\n",
        "penguins.hist(\"body_mass_g\", bins= wt_bins)"
      ]
    },
    {
      "cell_type": "markdown",
      "metadata": {
        "id": "Q8lhaPt0S5gD"
      },
      "source": [
        "**Question 2.2.** Based on the information presented in the above histogram, assign `num_penguins` to the **number of penguins** that have a body mass **between 3000 grams (*inclusive*) and 3500 grams (*exclusive*)**.\n",
        "\n",
        "*Note*: Remember, in a histogram, each bin is inclusive of the left endpoint and exclusive of the right endpoint. What this means is that, for example, the bin between 2500 and 3000 grams above corresponds to body masses that are greater than or equal to 2500 grams and less than 3000 grams."
      ]
    },
    {
      "cell_type": "code",
      "execution_count": 24,
      "metadata": {
        "tags": [],
        "colab": {
          "base_uri": "https://localhost:8080/"
        },
        "id": "UzmWd3DES5gD",
        "outputId": "13b7011f-024b-4b5a-f8da-e2cb7bf06b75"
      },
      "outputs": [
        {
          "output_type": "execute_result",
          "data": {
            "text/plain": [
              "60"
            ]
          },
          "metadata": {},
          "execution_count": 24
        }
      ],
      "source": [
        "num_penguins = 60\n",
        "num_penguins"
      ]
    },
    {
      "cell_type": "code",
      "execution_count": 25,
      "metadata": {
        "deletable": false,
        "editable": false,
        "colab": {
          "base_uri": "https://localhost:8080/",
          "height": 46
        },
        "id": "GusYMUCVS5gE",
        "outputId": "f2fdacfd-9fc7-40a1-f284-dc586489cb77"
      },
      "outputs": [
        {
          "output_type": "execute_result",
          "data": {
            "text/plain": [
              "q1b results: All test cases passed!"
            ],
            "text/html": [
              "<p><strong><pre style='display: inline;'>q1b</pre></strong> passed! 🌈</p>"
            ]
          },
          "metadata": {},
          "execution_count": 25
        }
      ],
      "source": [
        "grader.check(\"q1b\")"
      ]
    },
    {
      "cell_type": "markdown",
      "metadata": {
        "id": "1OKxxftPS5gE"
      },
      "source": [
        "**Question 2.3.**: In the cell below, write code that produces a histogram that visualizes the distribution of our penguins' flipper lengths. \n",
        "\n",
        "Your graph should look similar to this: \n",
        "\n",
        "<img src=\"https://wsu-courses.s3.amazonaws.com/fall2022/cais105/assignment6/examples/q2c.png\">"
      ]
    },
    {
      "cell_type": "code",
      "execution_count": 26,
      "metadata": {
        "tags": [],
        "colab": {
          "base_uri": "https://localhost:8080/"
        },
        "id": "tAHzDC4RS5gE",
        "outputId": "26fa2caf-8bc6-4070-9ac8-4ac4179a73ff"
      },
      "outputs": [
        {
          "output_type": "execute_result",
          "data": {
            "text/plain": [
              "Ellipsis"
            ]
          },
          "metadata": {},
          "execution_count": 26
        }
      ],
      "source": [
        "# create the bins\n",
        "my_bins = np.arange(170, 241, 5)\n",
        "\n",
        "# write the code that uses the bins to create a histogram\n",
        "..."
      ]
    },
    {
      "cell_type": "markdown",
      "metadata": {
        "id": "onQgCGCkS5gF"
      },
      "source": [
        "When creating histograms, it's important to try several different bin sizes in order to make sure that we're satisfied with the level of detail (or lack thereof) in our histogram.\n",
        "\n",
        "Run the code cell below. It will present you with a histogram of the distribution of our penguins' body masses, along with a slider for bin widths. Use the slider to try several different bin widths and look at the resulting histograms."
      ]
    },
    {
      "cell_type": "code",
      "execution_count": 27,
      "metadata": {
        "colab": {
          "base_uri": "https://localhost:8080/",
          "height": 314,
          "referenced_widgets": [
            "89fbe7ccd9304e6696b3d676d2c8300b",
            "cd2475273f3e4cda939e6791ec3bfb39",
            "dd99fbe82b494e4d80cc83fc4f16636a",
            "02490ca5efe1465ca484b21662b6beaf",
            "998bb0d7d75b4e08898f271549a5937e",
            "10f1f31c8700419585f6bd56d2b9ac3b",
            "6dad850e4aac41d59c785aa06c97632f"
          ]
        },
        "id": "AOi9OvMDS5gF",
        "outputId": "f6b21c90-6c75-4120-d256-346844b5c6a7"
      },
      "outputs": [
        {
          "output_type": "display_data",
          "data": {
            "text/plain": [
              "interactive(children=(IntSlider(value=25, continuous_update=False, description='bin_width', max=2000, min=25, …"
            ],
            "application/vnd.jupyter.widget-view+json": {
              "version_major": 2,
              "version_minor": 0,
              "model_id": "89fbe7ccd9304e6696b3d676d2c8300b"
            }
          },
          "metadata": {}
        }
      ],
      "source": [
        "# Don't worry about the code, just play with the slider that appears after running.\n",
        "def draw_mass_histogram(bin_width):\n",
        "    penguins.hist('body_mass_g', bins = np.arange(2700, 6300+2*bin_width, bin_width), density = False)\n",
        "    \n",
        "interact(draw_mass_histogram, bin_width=IntSlider(min=25, max=2000, step=25, continuous_update=False));"
      ]
    },
    {
      "cell_type": "markdown",
      "metadata": {
        "id": "Ym-2rKJ2S5gF"
      },
      "source": [
        "**Question 2.4:** In the cell below, draw two histograms using two different sized bins (bin width to **100** and **750**). Compare the output."
      ]
    },
    {
      "cell_type": "markdown",
      "metadata": {
        "id": "t7zMnP-FS5gF"
      },
      "source": [
        "The first histogram should look like this:\n",
        "\n",
        "<img src=\"https://wsu-courses.s3.amazonaws.com/fall2022/cais105/assignment6/examples/q2d-1.png\">\n",
        "\n",
        "The second histogram should look similar to below:\n",
        "\n",
        "<img src=\"https://wsu-courses.s3.amazonaws.com/fall2022/cais105/assignment6/examples/q2d-2.png\">\n"
      ]
    },
    {
      "cell_type": "code",
      "execution_count": 28,
      "metadata": {
        "tags": [],
        "colab": {
          "base_uri": "https://localhost:8080/"
        },
        "id": "6VsGb079S5gG",
        "outputId": "e3275bff-60b7-42ab-e452-c545cf8c3d17"
      },
      "outputs": [
        {
          "output_type": "execute_result",
          "data": {
            "text/plain": [
              "Ellipsis"
            ]
          },
          "metadata": {},
          "execution_count": 28
        }
      ],
      "source": [
        "# Draw the histograms here, using the narrow bins\n",
        "narrow_bins = np.arange(2000, 7001, 100)\n",
        "..."
      ]
    },
    {
      "cell_type": "code",
      "execution_count": 29,
      "metadata": {
        "tags": [],
        "colab": {
          "base_uri": "https://localhost:8080/"
        },
        "id": "A5UuZ2lHS5gG",
        "outputId": "6122df23-b173-43be-b4d7-e4bdc163e3e4"
      },
      "outputs": [
        {
          "output_type": "execute_result",
          "data": {
            "text/plain": [
              "Ellipsis"
            ]
          },
          "metadata": {},
          "execution_count": 29
        }
      ],
      "source": [
        "# Draw the histograms here, using the narrow bins\n",
        "wide_bins = np.arange(2000, 7001, 500)\n",
        "..."
      ]
    },
    {
      "cell_type": "markdown",
      "metadata": {
        "id": "Hzwq6LrrS5gG"
      },
      "source": [
        "**Question 2.5.** In one of the previous questions, you plotted the distribution of penguins' body mass measurements for the **entire dataset**. While doing so is important to visualize our data as a whole, we can uncover underlying patterns within our data by grouping. This process is known as **disaggregation**: separating aggregated data into its component parts.\n",
        "\n",
        "For this question, using the `penguins` table and the `hist` table method and its various optional arguments, create the disaggregated histograms, similar to the ones shown below.\n",
        "\n",
        "<img src=\"https://wsu-courses.s3.amazonaws.com/fall2022/cais105/assignment6/examples/q2e.png\">\n",
        "\n",
        "*Note*: Use the `my_bins` variable we've defined as the optional `bins` argument of the `hist` method. Use `help(penguins.hist)` to see the available optional arguments.\n"
      ]
    },
    {
      "cell_type": "code",
      "execution_count": 30,
      "metadata": {
        "tags": [],
        "colab": {
          "base_uri": "https://localhost:8080/",
          "height": 201
        },
        "id": "fqOZ69KES5gH",
        "outputId": "2b5cedd6-c9f6-427e-d43d-cf86a56ec9d6"
      },
      "outputs": [
        {
          "output_type": "error",
          "ename": "NameError",
          "evalue": "ignored",
          "traceback": [
            "\u001b[0;31m---------------------------------------------------------------------------\u001b[0m",
            "\u001b[0;31mNameError\u001b[0m                                 Traceback (most recent call last)",
            "\u001b[0;32m<ipython-input-30-30a11ca8384c>\u001b[0m in \u001b[0;36m<module>\u001b[0;34m\u001b[0m\n\u001b[1;32m      2\u001b[0m \u001b[0;31m# Use the bins provided below.\u001b[0m\u001b[0;34m\u001b[0m\u001b[0;34m\u001b[0m\u001b[0;34m\u001b[0m\u001b[0m\n\u001b[1;32m      3\u001b[0m \u001b[0mmy_bins\u001b[0m \u001b[0;34m=\u001b[0m \u001b[0mnp\u001b[0m\u001b[0;34m.\u001b[0m\u001b[0marange\u001b[0m\u001b[0;34m(\u001b[0m\u001b[0;36m2500\u001b[0m\u001b[0;34m,\u001b[0m \u001b[0;36m6501\u001b[0m\u001b[0;34m,\u001b[0m \u001b[0;36m500\u001b[0m\u001b[0;34m)\u001b[0m\u001b[0;34m\u001b[0m\u001b[0;34m\u001b[0m\u001b[0m\n\u001b[0;32m----> 4\u001b[0;31m \u001b[0mpen\u001b[0m\u001b[0;34m.\u001b[0m\u001b[0mhist\u001b[0m\u001b[0;34m(\u001b[0m\u001b[0;34m\"body_mass_g\"\u001b[0m\u001b[0;34m,\u001b[0m \u001b[0mmy_bins\u001b[0m\u001b[0;34m)\u001b[0m\u001b[0;34m\u001b[0m\u001b[0;34m\u001b[0m\u001b[0m\n\u001b[0m",
            "\u001b[0;31mNameError\u001b[0m: name 'pen' is not defined"
          ]
        }
      ],
      "source": [
        "# Write the code to create the 3 separate bar graphs here. \n",
        "# Use the bins provided below.\n",
        "my_bins = np.arange(2500, 6501, 500)\n",
        "pen.hist(\"body_mass_g\", my_bins)"
      ]
    },
    {
      "cell_type": "markdown",
      "metadata": {
        "id": "bK00AKCnS5gH"
      },
      "source": [
        "## Question 3: [scatter](http://data8.org/datascience/_autosummary/datascience.tables.Table.scatter.html#datascience.tables.Table.scatter) method\n",
        "\n",
        "As we mentioned, visualizing two variables can show us patterns in the data that can help us learn new information. The `scatter` method allows us to see the relationship between two numerical variables in our data using a **scatter plot**. For this, we will use a different data\n",
        "\n",
        "The first provided column name goes along the x-axis and the second goes along the y-axis."
      ]
    },
    {
      "cell_type": "markdown",
      "metadata": {
        "id": "mARdw3SWS5gH"
      },
      "source": [
        "**Question 3.1.** Use the following cell to produce a scatter plot that plots `\"bill_length_mm\"` on the x-axis and `\"bill_depth_mm\"` on the y-axis. Additionally, the scatter plot should plot **each penguin species** as its own, unique color. Your plot should look like this:\n",
        "\n",
        "<img src=\"https://wsu-courses.s3.amazonaws.com/fall2022/cais105/assignment6/examples/bill_length_vs_depth.png\">\n",
        "\n",
        "*Hint*: You may find the optional arguments of the `scatter` method helpful. See the [Scatter method reference](http://data8.org/datascience/_autosummary/datascience.tables.Table.scatter.html#datascience.tables.Table.scatter) for more details. "
      ]
    },
    {
      "cell_type": "code",
      "execution_count": null,
      "metadata": {
        "tags": [],
        "id": "vTTBUQQhS5gH"
      },
      "outputs": [],
      "source": [
        "# Write the code to create the scatter plot here\n",
        "..."
      ]
    },
    {
      "cell_type": "markdown",
      "metadata": {
        "id": "UX7Gxy4uS5gI"
      },
      "source": [
        "**Question 3.2.** Here's a breakdown of the plot from the previous question:\n",
        "- Position on the x-axis represents bill length.\n",
        "- Position on the y-axis represents bill depth.\n",
        "- Color represents species, as per the legend on the right.\n",
        "\n",
        "You'll note that there are three general \"clusters\" or \"groups\" of points, corresponding to the three penguin species. Use the scatter plot to fill in the blanks below. Both blanks should be a species of penguin.\n",
        "\n",
        ">_\"It appears that the distribution of bill lengths of Chinstrap penguins is very similar to the distribution of bill lengths of_ **[Answer for Question 3.2a]** _penguins, while the distribution of bill depths of Chinstrap penguins is very similar to the distribution of bill depths of_ **[Answer for Question 3.2b]** _penguins.\"_\n"
      ]
    },
    {
      "cell_type": "code",
      "execution_count": null,
      "metadata": {
        "tags": [],
        "id": "rdD-FA8SS5gI"
      },
      "outputs": [],
      "source": [
        "# Answer question 3.2a here\n",
        "# Which penguin species has a bill length distribution similar to the Chinstrap penguins?\n",
        "q3_2a = ..."
      ]
    },
    {
      "cell_type": "code",
      "execution_count": null,
      "metadata": {
        "tags": [],
        "id": "b9Aw_Ql7S5gI"
      },
      "outputs": [],
      "source": [
        "# Answer question 3.2B here\n",
        "# Which penguin species has a bill depth distribution similar to the Chinstrap penguins?\n",
        "q3_2b = ..."
      ]
    },
    {
      "cell_type": "code",
      "execution_count": null,
      "metadata": {
        "deletable": false,
        "editable": false,
        "id": "ybi1XU2BS5gI"
      },
      "outputs": [],
      "source": [
        "grader.check(\"q3b\")"
      ]
    },
    {
      "cell_type": "markdown",
      "metadata": {
        "id": "hD5JXlt5S5gJ"
      },
      "source": [
        "**Question 3.3** While the visualization in **Question 3.1** is helpful is distinguishing between species, we lose important information -- one such feature we lose is the **sex** of the penguin. To visually compare the male and female penguins, we must do some additional digging.\n",
        "\n",
        "In the cell below, plot a scatter plot for **only the Gentoo penguins** with `\"bill_length_mm\"` on the x-axis and `\"bill_depth_mm\"` on the y-axis, color coded by the value in the `\"sex\"` column. \n",
        "\n",
        "Your graph should look similar to this: \n",
        "\n",
        "<img src=\"https://wsu-courses.s3.amazonaws.com/fall2022/cais105/assignment6/examples/q3c.png\">\n",
        "\n",
        "*Hint*: You should create a new table which only includes rows from the `penguins` table that correspond to Gentoo penguins. \n"
      ]
    },
    {
      "cell_type": "code",
      "execution_count": null,
      "metadata": {
        "tags": [],
        "id": "smmgv4hhS5gJ"
      },
      "outputs": [],
      "source": [
        "# create a new table which only includes Gentoo penguins.\n",
        "gentoo_penguins = ...\n",
        "gentoo_penguins.show(5)"
      ]
    },
    {
      "cell_type": "code",
      "execution_count": null,
      "metadata": {
        "tags": [],
        "id": "WD0A6YGSS5gJ"
      },
      "outputs": [],
      "source": [
        "# Write the code to create a scatter plot of Gentoo penguins bill length and bill depth\n",
        "..."
      ]
    },
    {
      "cell_type": "code",
      "execution_count": null,
      "metadata": {
        "deletable": false,
        "editable": false,
        "id": "88nEcEgcS5gJ"
      },
      "outputs": [],
      "source": [
        "grader.check(\"q3c\")"
      ]
    },
    {
      "cell_type": "markdown",
      "metadata": {
        "id": "0uzfDIx_S5gK"
      },
      "source": [
        "If you've created the plot above correctly, you'll notice that male Gentoo penguins tend to have *both* longer and deeper bills."
      ]
    },
    {
      "cell_type": "markdown",
      "metadata": {
        "id": "IzlHwbmiS5gK"
      },
      "source": [
        "**Question 3.4** You would also like to investigate the relationship between `\"flipper_length_m\"` and `\"body_mass_g\"` in each species. \n",
        "\n",
        "Your graph should look similar to this: \n",
        "\n",
        "<img src=\"https://wsu-courses.s3.amazonaws.com/fall2022/cais105/assignment6/examples/q3d.png\">\n"
      ]
    },
    {
      "cell_type": "code",
      "execution_count": null,
      "metadata": {
        "tags": [],
        "id": "bkTeFbT_S5gK"
      },
      "outputs": [],
      "source": [
        "# Write the code to create a scatter plot of flipper length and body mass for each species\n",
        "..."
      ]
    },
    {
      "cell_type": "markdown",
      "metadata": {
        "id": "tN9GhJ9_S5gK"
      },
      "source": [
        "**Question 3.5**: Based on the scatter plot above, you would like to be able to estimate a penguin's weight based on it's flipper length. To do this you can use the `fit_line` parameter of the `scatter` method.\n",
        "\n",
        "Your graph should look similar to this: \n",
        "\n",
        "<img src=\"https://wsu-courses.s3.amazonaws.com/fall2022/cais105/assignment6/examples/q3e.png\">\n",
        "\n",
        "_Hint_: remove the \"group\" parameter. "
      ]
    },
    {
      "cell_type": "code",
      "execution_count": null,
      "metadata": {
        "tags": [],
        "id": "Kjo9LBHCS5gL"
      },
      "outputs": [],
      "source": [
        "# Write the code to fit a line to the flipper length and body mass data \n",
        "..."
      ]
    },
    {
      "cell_type": "markdown",
      "metadata": {
        "id": "5bIInaILS5gL"
      },
      "source": [
        "**Question 3.6**: Based on the scatter plot above, what is the weight of a penguin whose flipper length is **200 mm**?"
      ]
    },
    {
      "cell_type": "code",
      "execution_count": null,
      "metadata": {
        "tags": [],
        "id": "lIiU-dwYS5gL"
      },
      "outputs": [],
      "source": [
        "# Enter the estimated weight of a penguin with 200 mm flipper length, round it to the nearest 100s.\n",
        "q3_6 = ..."
      ]
    },
    {
      "cell_type": "code",
      "execution_count": null,
      "metadata": {
        "deletable": false,
        "editable": false,
        "id": "FiJLJaBRS5gM"
      },
      "outputs": [],
      "source": [
        "grader.check(\"q3f\")"
      ]
    },
    {
      "cell_type": "markdown",
      "metadata": {
        "id": "8DARojEDS5gM"
      },
      "source": [
        "## The Power of Visualizations\n",
        "\n",
        "Look back to the scatter plot you created in **Question 4a**; we used the `\"bill_length_mm\"` and `\"bill_depth_mm\"` to produce a visualization that allows us to group the different penguin species together. This is a basic form of **clustering**, an extremely powerful tool in data science. We won't get into clustering in this class, but you may come across it in an upper level elective, such as the Machine Learning course.\n",
        "\n",
        "Just for fun, run the following cell to produce a *three dimensional scatter plot* using the `\"bill_length_mm\"`, `\"bill_depth_mm\"`, and `\"flipper_length_mm\"` columns."
      ]
    },
    {
      "cell_type": "code",
      "execution_count": null,
      "metadata": {
        "id": "UwQhcJSeS5gN"
      },
      "outputs": [],
      "source": [
        "# Just run this cell and play around with the visualization! You can zoom in and out, toggle on/off certain\n",
        "# species, and move the plot around\n",
        "Table.interactive_plots()\n",
        "penguins.scatter3d(\"bill_length_mm\", \"bill_depth_mm\", \"flipper_length_mm\", group=\"species\")\n",
        "Table.static_plots()"
      ]
    },
    {
      "cell_type": "markdown",
      "metadata": {
        "id": "_rk9E-3CS5gN"
      },
      "source": [
        "## Question 4: [plot](http://data8.org/datascience/_autosummary/datascience.tables.Table.plot.html#datascience.tables.Table.plot) method\n",
        "\n",
        "If you want to plot two numerical variables but one of those variables corresponds to time, we can use a line plot to visualize the non-time variable as time passes.\n",
        "\n",
        "Similar to `scatter`, we give plot the names of two numerical columns and it creates a **line plot** for us. If we want to draw multiple line plots on the same set of axes, we give it a table with multiple numerical columns, and tell it which one contains the values for the x-axis.\n",
        "\n",
        "The `plot` method allows us to see how non-time variables change over time. Let's use `plot` to look at the Disney movie patterns over the years (the orignal data can be found [here](https://raw.githubusercontent.com/reisanar/datasets/master/disney_movies_total_gross.csv)). First, let's load the data."
      ]
    },
    {
      "cell_type": "code",
      "execution_count": null,
      "metadata": {
        "id": "NmpWITvGS5gO"
      },
      "outputs": [],
      "source": [
        "# Run this cell to load the movies dataset\n",
        "movies = Table.read_table(\"data/movies.csv\")\n",
        "movies = movies.with_columns(\"decade\", movies[\"year\"]//10*10)\n",
        "movies.show(5)"
      ]
    },
    {
      "cell_type": "markdown",
      "metadata": {
        "id": "qPSR6JiOS5gO"
      },
      "source": [
        "**Question 4.1** Plot the number of movies in each decade.\n",
        "\n",
        "First, create a table that contains the number of movies in each decade:\n",
        "\n",
        "<img src=\"https://wsu-courses.s3.amazonaws.com/fall2022/cais105/assignment6/examples/q4a-table.png\">\n",
        "\n",
        "Your graph should look similar to this: \n",
        "\n",
        "<img src=\"https://wsu-courses.s3.amazonaws.com/fall2022/cais105/assignment6/examples/q4a.png\">"
      ]
    },
    {
      "cell_type": "code",
      "execution_count": null,
      "metadata": {
        "tags": [],
        "id": "Wf9NF1D9S5gP"
      },
      "outputs": [],
      "source": [
        "# create a table that contains the number of movies in each decade\n",
        "num_movies_decade = ...\n",
        "num_movies_decade"
      ]
    },
    {
      "cell_type": "code",
      "execution_count": null,
      "metadata": {
        "tags": [],
        "id": "cN83rCafS5gP"
      },
      "outputs": [],
      "source": [
        "# Write the code to plot the number of movies in each decade\n",
        "..."
      ]
    },
    {
      "cell_type": "code",
      "execution_count": null,
      "metadata": {
        "deletable": false,
        "editable": false,
        "id": "ikMAwPYnS5gP"
      },
      "outputs": [],
      "source": [
        "grader.check(\"q4a\")"
      ]
    },
    {
      "cell_type": "markdown",
      "metadata": {
        "id": "4BzGkVzxS5gP"
      },
      "source": [
        "**Question 4.2** Plot the inflation adjusted gross revenue in each decade. \n",
        "\n",
        "First, create a table that contains the sum of inflation adjusted gross and total gross total for each decade:\n",
        "\n",
        "<img src=\"https://wsu-courses.s3.amazonaws.com/fall2022/cais105/assignment6/examples/q4b-table.png\">\n",
        "\n",
        "Your graph should look similar to this: \n",
        "\n",
        "<img src=\"https://wsu-courses.s3.amazonaws.com/fall2022/cais105/assignment6/examples/q4b.png\">"
      ]
    },
    {
      "cell_type": "code",
      "execution_count": null,
      "metadata": {
        "tags": [],
        "id": "0cQLGd07S5gQ"
      },
      "outputs": [],
      "source": [
        "# create a table that contains the sum of inflation adjusted gross and total gross total for each decade\n",
        "gross_revenue_decade = ...\n",
        "gross_revenue_decade"
      ]
    },
    {
      "cell_type": "code",
      "execution_count": null,
      "metadata": {
        "tags": [],
        "id": "tN4JO7clS5gQ"
      },
      "outputs": [],
      "source": [
        "# Write the code to plot the inflation adjusted gross revenue in each decade. \n",
        "..."
      ]
    },
    {
      "cell_type": "code",
      "execution_count": null,
      "metadata": {
        "deletable": false,
        "editable": false,
        "id": "MDhMBGwQS5gQ"
      },
      "outputs": [],
      "source": [
        "grader.check(\"q4b\")"
      ]
    },
    {
      "cell_type": "markdown",
      "metadata": {
        "id": "647FHTLxS5gQ"
      },
      "source": [
        "**Question 4.3** Plot the (inflation adjusted) maximum grossing movie in each decade.\n",
        "\n",
        "First, create a table that contains the maximum inflation adjusted and total gross total for each decade:\n",
        "\n",
        "<img src=\"https://wsu-courses.s3.amazonaws.com/fall2022/cais105/assignment6/examples/q4c-table.png\">\n",
        "\n",
        "\n",
        "Your graph should look similar to this: \n",
        "\n",
        "<img src=\"https://wsu-courses.s3.amazonaws.com/fall2022/cais105/assignment6/examples/q4c.png\">\n"
      ]
    },
    {
      "cell_type": "code",
      "execution_count": null,
      "metadata": {
        "tags": [],
        "id": "IDGr--dqS5gR"
      },
      "outputs": [],
      "source": [
        "# Create a table that contain the maximum inflation adjusted and total gross total for each decade:\n",
        "max_grossing_decade = ...\n",
        "max_grossing_decade"
      ]
    },
    {
      "cell_type": "code",
      "execution_count": null,
      "metadata": {
        "tags": [],
        "id": "CECNScqsS5gR"
      },
      "outputs": [],
      "source": [
        "# Write the code to plot the (inflation adjusted) maximum grossing movie in each decade.\n",
        "..."
      ]
    },
    {
      "cell_type": "code",
      "execution_count": null,
      "metadata": {
        "deletable": false,
        "editable": false,
        "id": "Ht0kr_vVS5gR"
      },
      "outputs": [],
      "source": [
        "grader.check(\"q4c\")"
      ]
    },
    {
      "cell_type": "markdown",
      "metadata": {
        "id": "sdS1HTwKS5gS"
      },
      "source": [
        "**Question 4.4** After adjustment for inflation, what was the highest grossing movie in the dataset?"
      ]
    },
    {
      "cell_type": "code",
      "execution_count": null,
      "metadata": {
        "tags": [],
        "id": "inIA1hL3S5gS"
      },
      "outputs": [],
      "source": [
        "# Write the highest grossing movie in the dataset after adjusting for inflation\n",
        "q4_4 = ..."
      ]
    },
    {
      "cell_type": "code",
      "execution_count": null,
      "metadata": {
        "deletable": false,
        "editable": false,
        "id": "KHEFqCitS5gS"
      },
      "outputs": [],
      "source": [
        "grader.check(\"q4d\")"
      ]
    },
    {
      "cell_type": "markdown",
      "metadata": {
        "id": "4bzxVfV_S5gT"
      },
      "source": [
        "## Submission\n",
        "\n",
        "Here are the steps to submit your assignment:\n",
        "- Make sure that you have run all the cells in the notebook (click _Run All_ button).\n",
        "- Save the notebook (click _File_ -> _Save_).\n",
        "- Save the assignment into the GitHub repository, by clicking on the _Source Control_ icon ![](https://wsu-courses.s3.amazonaws.com/fall2022/cais105/source-control-icon.png) and do the steps below:\n",
        "    1. Enter a comment in the commit message field\n",
        "    2. Click the _Commit_ button (click \"Yes\" if asked if you want to stage the files and commit all changes)\n",
        "    3. Click _Sync Changes_ button\n",
        "     \n",
        "    ![](https://wsu-courses.s3.amazonaws.com/fall2022/cais105/step1-step2.png) \n",
        "\n",
        "\n",
        "    ![](https://wsu-courses.s3.amazonaws.com/fall2022/cais105/step3.png)\n",
        "\n",
        "- After the changes are in GitHub, submit the link to the repository in PLATO through the assignment submission page. You can find the list of all of your repositories in this class [here](https://github.com/cais105-fall2022). Make sure that you verify that the files are correctly pushed into GitHub before you submit this link in PLATO (you can view the notebook content in read-only mode in GitHub). "
      ]
    },
    {
      "cell_type": "markdown",
      "metadata": {
        "deletable": false,
        "editable": false,
        "id": "cnIXd7hHS5gT"
      },
      "source": [
        "---\n",
        "\n",
        "To double-check your work, the cell below will rerun all of the autograder tests."
      ]
    },
    {
      "cell_type": "code",
      "execution_count": null,
      "metadata": {
        "deletable": false,
        "editable": false,
        "id": "HH0qtHjzS5gT"
      },
      "outputs": [],
      "source": [
        "grader.check_all()"
      ]
    }
  ],
  "metadata": {
    "kernelspec": {
      "display_name": "Python 3.10.8 64-bit",
      "language": "python",
      "name": "python3"
    },
    "language_info": {
      "codemirror_mode": {
        "name": "ipython",
        "version": 3
      },
      "file_extension": ".py",
      "mimetype": "text/x-python",
      "name": "python",
      "nbconvert_exporter": "python",
      "pygments_lexer": "ipython3",
      "version": "3.10.8"
    },
    "vscode": {
      "interpreter": {
        "hash": "949777d72b0d2535278d3dc13498b2535136f6dfe0678499012e853ee9abcab1"
      }
    },
    "colab": {
      "provenance": []
    },
    "widgets": {
      "application/vnd.jupyter.widget-state+json": {
        "89fbe7ccd9304e6696b3d676d2c8300b": {
          "model_module": "@jupyter-widgets/controls",
          "model_name": "VBoxModel",
          "model_module_version": "1.5.0",
          "state": {
            "_dom_classes": [
              "widget-interact"
            ],
            "_model_module": "@jupyter-widgets/controls",
            "_model_module_version": "1.5.0",
            "_model_name": "VBoxModel",
            "_view_count": null,
            "_view_module": "@jupyter-widgets/controls",
            "_view_module_version": "1.5.0",
            "_view_name": "VBoxView",
            "box_style": "",
            "children": [
              "IPY_MODEL_cd2475273f3e4cda939e6791ec3bfb39",
              "IPY_MODEL_dd99fbe82b494e4d80cc83fc4f16636a"
            ],
            "layout": "IPY_MODEL_02490ca5efe1465ca484b21662b6beaf"
          }
        },
        "cd2475273f3e4cda939e6791ec3bfb39": {
          "model_module": "@jupyter-widgets/controls",
          "model_name": "IntSliderModel",
          "model_module_version": "1.5.0",
          "state": {
            "_dom_classes": [],
            "_model_module": "@jupyter-widgets/controls",
            "_model_module_version": "1.5.0",
            "_model_name": "IntSliderModel",
            "_view_count": null,
            "_view_module": "@jupyter-widgets/controls",
            "_view_module_version": "1.5.0",
            "_view_name": "IntSliderView",
            "continuous_update": false,
            "description": "bin_width",
            "description_tooltip": null,
            "disabled": false,
            "layout": "IPY_MODEL_998bb0d7d75b4e08898f271549a5937e",
            "max": 2000,
            "min": 25,
            "orientation": "horizontal",
            "readout": true,
            "readout_format": "d",
            "step": 25,
            "style": "IPY_MODEL_10f1f31c8700419585f6bd56d2b9ac3b",
            "value": 1025
          }
        },
        "dd99fbe82b494e4d80cc83fc4f16636a": {
          "model_module": "@jupyter-widgets/output",
          "model_name": "OutputModel",
          "model_module_version": "1.0.0",
          "state": {
            "_dom_classes": [],
            "_model_module": "@jupyter-widgets/output",
            "_model_module_version": "1.0.0",
            "_model_name": "OutputModel",
            "_view_count": null,
            "_view_module": "@jupyter-widgets/output",
            "_view_module_version": "1.0.0",
            "_view_name": "OutputView",
            "layout": "IPY_MODEL_6dad850e4aac41d59c785aa06c97632f",
            "msg_id": "",
            "outputs": [
              {
                "output_type": "display_data",
                "data": {
                  "text/plain": "<Figure size 432x288 with 1 Axes>",
                  "image/png": "iVBORw0KGgoAAAANSUhEUgAAAbQAAAEJCAYAAAD8YNLtAAAABHNCSVQICAgIfAhkiAAAAAlwSFlzAAALEgAACxIB0t1+/AAAADh0RVh0U29mdHdhcmUAbWF0cGxvdGxpYiB2ZXJzaW9uMy4yLjIsIGh0dHA6Ly9tYXRwbG90bGliLm9yZy+WH4yJAAAaMklEQVR4nO3dfZRkdX3n8feXaUDpERgediTAwnDoENH1AV0Di2uIGMSHA2iUDGE3qGhMYnzeKMQTQI2bYFyfdo2SgIobRRFFWLKLAoJoElBBRUceakTQIcCAwoxdRIfB7/5xfzVdND1Dd1V1Vfev369z6vS9v3vvr771m+76zL11697ITCRJWuy2G3UBkiQNgoEmSaqCgSZJqoKBJkmqgoEmSarC2KgL6NWGDRs8PVOSKrfLLrvEbNd1D02SVAUDTZJUBQNtwFqt1qhLWBAchymOxRTHouE4TBnkWBhokqQqGGiSpCoYaJKkKhhokqQqGGiSpCoYaJKkKhhokqQqLNpLX2l+3H3Pfdx738a++5lsb2LNLbcPoKLR2mPFzqzcc8Woy5A0CwaaHube+zbyzg99qu9+2u024+PjA6hotE57/YkGmrRIeMhRklQFA02SVAUDTZJUBQNNklQFA02SVAUDTZJUBQNNklQFA02SVAUDTZJUBQNNklQFA02SVAUDTZJUhaEEWkR8LCLWR8T3u9r+JiJuiogbIuLCiNi1a9mpEbE2Im6OiOcNo0ZJ0uI2rD20TwBHT2u7DHhSZj4ZuAU4FSAiDgZWA08s2/xtRCwbUp2SpEVqKIGWmVcDP5vW9uXM3FxmrwH2KdPHAp/JzF9m5o+AtcAzh1GnJGnxWij3Q3sl8NkyvTdNwHWsK21b1Wq15qms3iy0euZisr2Jdrs9kL4G1c8oTbYnB/LvuZh/JwbNsWg4DlOmj8XExERP/Yw80CLi7cBmoOe7Svb64udDq9VaUPXM1Zpbbh/IjTlrucHn8vHlTEzs11cfi/13YpAci4bjMGWQYzHSQIuIlwMvAo7MzCzNdwD7dq22T2mTJGmrRnbafkQcDbwVOCYzH+hadDGwOiJ2jIhVwATwjVHUKElaPIayhxYR5wFHAHtExDrgdJqzGncELosIgGsy848yc01EnA/8gOZQ5Gsz86Fh1ClJWryGEmiZecIMzedsY/13A++ev4okSbXxSiGSpCoYaJKkKhhokqQqGGiSpCoYaJKkKoz8SiGjdvc993HvfRsH1t9kexNrbrl9YP0N2y83bRp1CZLUkyUfaPfet5F3fqjnq249wmK/5NMbX/niUZcgST3xkKMkqQoGmiSpCgaaJKkKBpokqQoGmiSpCgaaJKkKBpokqQoGmiSpCgaaJKkKBpokqQoGmiSpCgaaJKkKBpokqQoGmiSpCgaaJKkKBpokqQpDCbSI+FhErI+I73e17RYRl0VEq/xcUdojIj4UEWsj4oaIOGQYNUqSFrdh7aF9Ajh6WtspwBWZOQFcUeYBng9MlMcfAh8ZUo2SpEVsKIGWmVcDP5vWfCxwbpk+Fziuq/2T2bgG2DUi9hpGnZKkxWtshM+9MjPvLNN3ASvL9N7AT7rWW1fa7mQrWq1Wz0VMtjfRbrd73n4mg+5vmDY/tHlg9S/mceiYbE/29fvVMYg+auFYNByHKdPHYmJioqd+RhloW2RmRkT2un2vLx5gzS23Mz4+3vP207Xb7YH2N2xjy8YGUv9iH4eO5ePLmZjYr68+Wq1WX7+jNXEsGo7DlEGOxSjPcry7cyix/Fxf2u8A9u1ab5/SJknSVo0y0C4GTirTJwEXdbX/QTnb8VBgQ9ehSUmSZjSUQ44RcR5wBLBHRKwDTgf+Gjg/Ik4GbgeOL6v/X+AFwFrgAeAVw6hRkrS4DSXQMvOErSw6coZ1E3jt/FYkSaqNVwqRJFXBQJMkVcFAkyRVwUCTJFXBQJMkVcFAkyRVwUCTJFXBQJMkVcFAkyRVwUCTJFXBQJMkVcFAkyRVwUCTJFXBQJMkVcFAkyRVwUCTJFXBQJMkVcFAkyRVwUCTJFXBQJMkVcFAkyRVwUCTJFVh5IEWEW+KiDUR8f2IOC8iHhMRqyLi2ohYGxGfjYgdRl2nJGlhG2mgRcTewOuBZ2Tmk4BlwGrgTOD9mXkgcB9w8uiqlCQtBiPfQwPGgMdGxBiwE3An8BzggrL8XOC4EdUmSVokRhpomXkH8F7gxzRBtgG4Drg/MzeX1dYBe4+mQknSYjE2yiePiBXAscAq4H7gc8DRc+2n1Wr1XMNkexPtdrvn7Wcy6P6GafNDmwdW/2Ieh47J9mRfv18dg+ijFo5Fw3GYMn0sJiYmeupnpIEGPBf4UWbeAxARXwAOB3aNiLGyl7YPcMe2Oun1xQOsueV2xsfHe95+una7PdD+hm1s2dhA6l/s49CxfHw5ExP79dVHq9Xq63e0Jo5Fw3GYMsixmPUhx4h42VbaX9rH8/8YODQidoqIAI4EfgBcCXT6PQm4qI/nkCQtAXPZQzuH5pDgdH/H1Akcc5KZ10bEBcD1wGbg26W/fwQ+ExF/WdrO6aV/qV8RzV58Pybbm/ruYyHZY8XOrNxzxajLkB7hUQMtIg4ok9tFxCoguhYfAPyinwIy83Tg9GnNtwLP7KdfaRA2/PwBPvCxC/vqo5bDrx2nvf5EA00L0mz20NYCSRNkP5y27C7gjAHXJEnSnD1qoGXmdgAR8dXM/K35L0mSpLmb9UkhhpkkaSGb9Ukh5fOzdwNPBZZ3L8vMfz/guiRJmpO5nOX4aZrP0N4CPDA/5UiS1Ju5BNoTgcMz81fzVYwkSb2ay7UcrwaeNl+FSJLUj7nsod0GXBoRF9Kcrr9FZp42yKIkSZqruQTaOHAJsD2w7/yUI0lSb2YdaJn5ivksRJKkfszltP0DtrYsM28dTDmSJPVmLoccuy+B1ZHl57KBVSRJUg/mcsjxYWdERsTjaS4q/LVBFyVJ0lzN5bT9h8nMu4A3An81uHIkSepNz4FWHATsNIhCJEnqx1xOCvkaU5+ZQRNkTwTeOeiiJEmaq7mcFHL2tPk28N3MbA2wHkmSejKXk0LOnc9CJEnqx6w/Q4uI7SPiHRFxa0T8ovx8R0TsMJ8FSpI0G3M55Pge4JnAHwG3A/sBfwHsDLxp8KVJkjR7cwm0lwFPycyflvmbI+J64LsYaJKkEZvLafsxx3ZJkoZmLoH2OeD/RMTzIuIJEXE08MXSLknSSM0l0N4KXA58GLgO+J/AV4A/66eAiNg1Ii6IiJsi4saIOCwidouIyyKiVX6u6Oc5JEn1e9RAi4jDI+LMzNyUmadl5oGZuVNmTgA7Aof0WcMHgUsz8zeApwA3AqcAV5TnuKLMS5K0VbPZQ/tz4OqtLLsSeHuvTx4RuwDPBs4BKKF5P3As0Pne27nAcb0+hyRpaZjNWY5PBS7dyrLLgY/18fyrgHuAj0fEU2gOZb4BWJmZd5Z17gJWbquTVqv3i5VMtjfRbrd73n4mg+5vmDY/tHlg9S/mcegY1HjUMBYdk+3Jvv7m+tm2Jo7DlOljMTEx0VM/swm0nYEdgH+bYdn2wON6euap5z8EeF1mXhsRH2Ta4cXMzIjIGbcuen3xAGtuuZ3x8fGet5+u3W4PtL9hG1s2NpD6F/s4dAxiPGoZi47l48uZmNivp21brVZff6+1cBymDHIsZnPI8SbgqK0sO6os79U6YF1mXlvmL6AJuLsjYi+A8nN9H88hSVoCZhNo7wfOioiXRMR2ABGxXUS8BPgo8L5en7zcU+0nEXFQaToS+AFwMXBSaTsJuKjX55AkLQ2PesgxMz9d7k59LrBjRNwL7AH8Ejg9M8/rs4bXAZ8q14S8FXgFTdCeHxEn01xm6/g+n0OSVLlZXfoqM98XEWcDhwG7Az8F/iUzN/ZbQGZ+B3jGDIuO7LdvSdLSMZfbx2wEvjSPtUiS1LO5XClEkqQFy0CTJFXBQJMkVcFAkyRVwUCTJFXBQJMkVcFAkyRVwUCTJFXBQJMkVcFAkyRVwUCTJFXBQJMkVcFAkyRVwUCTJFXBQJMkVcFAkyRVwUCTJFXBQJMkVcFAkyRVwUCTJFXBQJMkVWFBBFpELIuIb0fEJWV+VURcGxFrI+KzEbHDqGuUJC1sCyLQgDcAN3bNnwm8PzMPBO4DTh5JVZKkRWPkgRYR+wAvBM4u8wE8B7igrHIucNxoqpMkLRYjDzTgA8BbgV+V+d2B+zNzc5lfB+w9isIkSYvH2CifPCJeBKzPzOsi4ohe+2m1Wj3XMNneRLvd7nn7mQy6v2Ha/NDmgdW/mMehY1DjUcNYdEy2J/v6m+tn25o4DlOmj8XExERP/Yw00IDDgWMi4gXAY4CdgQ8Cu0bEWNlL2we4Y1ud9PriAdbccjvj4+M9bz9du90eaH/DNrZsbCD1L/Zx6BjEeNQyFh3Lx5czMbFfT9u2Wq2+/l5r4ThMGeRYjPSQY2aempn7ZOb+wGrgK5l5InAl8NKy2knARSMqUZK0SCyEz9Bm8jbgzRGxluYztXNGXI8kaYEb9SHHLTLzKuCqMn0r8MxR1iNJWlwW6h6aJElzYqBJkqpgoEmSqmCgSZKqYKBJkqpgoEmSqmCgSZKqYKBJkqpgoEmSqmCgSZKqYKBJkqpgoEmSqmCgSZKqYKBJkqpgoEmSqmCgSZKqYKBJkqpgoEmSqmCgSZKqYKBJkqpgoEmSqmCgSZKqYKBJkqow0kCLiH0j4sqI+EFErImIN5T23SLisoholZ8rRlmnJGnhG/Ue2mbgLZl5MHAo8NqIOBg4BbgiMyeAK8q8JElbNdJAy8w7M/P6Mv1z4EZgb+BY4Nyy2rnAcaOpUJK0WIyNuoCOiNgfeBpwLbAyM+8si+4CVm5r21ar1fPzTrY30W63e95+JoPub5g2P7R5YPUv5nHoGNR41DAWHZPtyb7+5vrZtiaOw5TpYzExMdFTPwsi0CJiOfB54I2ZuTEitizLzIyI3Nb2vb54gDW33M74+HjP20/XbrcH2t+wjS0bG0j9i30cOgYxHrWMRcfy8eVMTOzX07atVquvv9daOA5TBjkWo/4MjYjYnibMPpWZXyjNd0fEXmX5XsD6UdUnSVocRn2WYwDnADdm5vu6Fl0MnFSmTwIuGnZtkqTFZdSHHA8H/ivwvYj4Tmn7c+CvgfMj4mTgduD4EdUnSVokRhpomfl1ILay+Mhh1iJJWtxG/hmaJEmDYKBJkqpgoEmSqmCgSZKqYKBJkqpgoEmSqmCgSZKqYKBJkqpgoEmSqjDqS19JWmQimrtU9GKyvannbReqPVbszMo9V4y6DGGgSZqjDT9/gA987MKetq3tVjoAp73+RANtgfCQoySpCgaaJKkKBpokqQoGmiSpCgaaJKkKBpokqQoGmiSpCgaaJKkKBpokqQoGmiSpCgaaJKkKBpokqQoLOtAi4uiIuDki1kbEKaOuR5K0cC3YQIuIZcCHgecDBwMnRMTBo61KkrRQRWaOuoYZRcRhwBmZ+bwyfypAZv4VwIYNGxZm4ZKkgdlll11itusu2D00YG/gJ13z60qbJEmPsJADTZKkWVvId6y+A9i3a36f0gbMbTdUklS/hbyH9k1gIiJWRcQOwGrg4hHXJElaoBZsoGXmZuBPgS8BNwLnZ+aaYdcREY+JiG9ExHcjYk1EvKO0r4qIa8tXCj5bQpeI2LHMry3L9+/q69TSfnNEPG/Yr2UQImJZRHw7Ii4p80t1HG6LiO9FxHci4lulbbeIuCwiWuXnitIeEfGh8ppviIhDuvo5qazfioiTRvV6+hERu0bEBRFxU0TcGBGHLcWxiIiDyu9D57ExIt64RMfiTeX98vsRcV55H53/94rM9LGNBxDA8jK9PXAtcChwPrC6tH8U+OMy/SfAR8v0auCzZfpg4LvAjsAq4IfAslG/vh7G483Ap4FLyvxSHYfbgD2mtb0HOKVMnwKcWaZfAPy/8rt0KHBtad8NuLX8XFGmV4z6tfUwFucCryrTOwC7LtWx6BqTZcBdwH5LbSxoTt77EfDYMn8+8PJhvFeM/MUvpgewE3A98JvAvcBYaT8M+FKZ/hJwWJkeK+sFcCpwaldfW9ZbLA+azzGvAJ4DXFJe15Ibh1L3bTwy0G4G9irTewE3l+mzgBOmrwecAJzV1f6w9RbDA9ilvHnFUh+Laa//KOCfluJYMHWG+m7lb/8S4HnDeK9YsIccF5JymO07wHrgMpr/KdyfzWFRePhXCrZ83aAs3wDsTh1fQ/gA8FbgV2V+d5bmOAAk8OWIuC4i/rC0rczMO8v0XcDKMr2111zDWKwC7gE+Xg5Fnx0R4yzNsei2GjivTC+pscjMO4D3Aj8G7qT527+OIbxXGGizkJkPZeZTafZQngn8xohLGrqIeBGwPjOvG3UtC8SzMvMQmivZvDYint29MJv/Ui6FL/+PAYcAH8nMpwFtmsNqWyyhsQCgfDZ0DPC56cuWwliUzwiPpfnPzq8B48DRw3huA20OMvN+4Eqa3eVdI6LztYfurxRs+bpBWb4L8FMe5WsIi8DhwDERcRvwGZrDjh9k6Y0DsOV/oWTmeuBCmv/o3B0RewGUn+vL6lt7zTWMxTpgXWZeW+YvoAm4pTgWHc8Hrs/Mu8v8UhuL5wI/ysx7MvNB4As07x/z/l5hoD2KiNgzInYt048FfofmrMsrgZeW1U4CLirTF5d5yvKvlP+VXQysLmf0rAImgG8M51X0LzNPzcx9MnN/msMpX8nME1li4wAQEeMR8bjONM3nJd/n4a95+lj8QTmr7VBgQzkE9SXgqIhYUf5Xe1RpWzQy8y7gJxFxUGk6EvgBS3AsupzA1OFGWHpj8WPg0IjYKSKCqd+J+X+vGPUHiAv9ATwZ+DZwA82b1mml/YAyuGtpDi3sWNofU+bXluUHdPX1dprP324Gnj/q19bHmBzB1FmOS24cymv+bnmsAd5e2nenOWmmBVwO7Fbag+ZC2z8Evgc8o6uvV5YxWgu8YtSvrcfxeCrwrfI38kWaM/OW6liM0+xd7NLVtuTGAngHcFN5z/zfNGcqzvt7xYK9OLEkSXPhIUdJUhUMNElSFQw0SVIVDDRJUhUMNElSFQw0VSkizoiI7Poi53w8x1URcdV89S9pbgw0SVIVDDRJUhUMNNXuCRFxZUQ8EBF3RsQ7I2LL7325KeOFEXF/RPxbRFwTEY+4kGpErI7mBpa/LDcufPG05Y+PiE0R8YYZtj2jPP+K2RQcEZ+IiHUR8YyI+OdS180R8cKy/M3R3GB0Y0RcFBF7Ttv+TyPiXyLiZ+V1XdPZtmudsYh4V0T8MCJ+ERH3RsTXI+JZXev8frmC/mR5ru9FxGtm8xq6+jihjNsvyvbHeKhW88VAU+2+SHO5oeNobkz6F8BpABHxa8DXgafQ3B39eOB+4B8j4vmdDiLiuWXbFvAS4G9oLszcuX4h2VzT8ItA51YynW2XASfT3HH9vjnUvTPwSeBs4MU0F7T9fET8D+C3gdcCbyzTH5627f5lu5cBv0dzWapLpgX124A3AR+iuVfVK2guz7RbqftZwD8AX6UZu5cCf09z885ZiYjfAT5Fcwmkl9DcUuQDwK/Ptg9pTkZ9zS8fPubjAZxBc5uOU6a1/z3wc5o35vcCm4EDu5Yvo7lu3PVdbf9Ec3HV7braDi39X9XVdkRp+89dbceUtkPnUPsnyjbP7mp7cmm7ma679gLvAx5kK3fypflP6xjwZeCirvZLgC9so4b/Bvysz3+Df6a5ll90tT19+rj58DGoh3toqt350+Y/AywHngQ8G7gmM9d2FmbmQzRXSn9qROxc9rD+I3BBZv6qa71raO5aTVfbVTTB131Y7jXADWX9uWhn5tVd8zeVn5eXGrvbx2judAxARDw9Ii6JiLtpAvtBmrtEHNS13TeBF0TEuyPiWdHcw4tpy1dExD9ExIs6d5yYrTJuzwA+n5lbLhibzf30fjSXvqTZMtBUu7u3Mr83zeG1O3mku2iuhL4C2APYfoZ+Zuob4CPASyNi94jYj+bGhh/toe77u2cyc1OZnH7YstP+GICI2JepQ4evA/4TTSBf2lmn+O/A6TR7kF8DfhoRH4+IPcrzfZXmkOW+NPd7uyciLo+IJ8+y/s64rZ9h2UzjJvXNQFPtVm5l/g7gZ8DjZ9jm8TSHxe4D7qXZw5nez0x9Q/O514PAy4FXAw/QfI40LEfT3CDx+Mw8PzOvycxvATt1r5SZD2bmmZn5H2j27t4E/C5dn8dl5gWZ+Vs0wf7ist6l3SfVbENn3P7dDMtmGjepbwaaanf8tPnVwCTN/ae+SnMjwv07C8uhst8Dvp2ZG8vhvW/S7HV1nx35mzQnXzxMZm6kCbDX0NzT6rzSNiyd4Hqw0xARv05zx+AZZeZdmXk2zckzT5ph+WRmXgKcRRNquz9aEWXcvgX8brnJY6eWpwOrZvdSpLmZt6soSAvEq0sQfZPmbL5XAWdk5oaIeD/NntRlEXE6sBH4E5qz8LpPcz+d5qSKL0bEWcCeNDcwvGsrz/m3TH2O1svhxn5cTvO52SfLGZF70dT6Y7r+AxsRF9HcoPR6mj3Rp9Hs3Z1Vlr+TZk/qSuBfgX2A1wPfycx7ZllLZ9wujIi/ozkMeQbNuP1qG9tJPXEPTbU7luaEiIuB/wL8JfAugMz8V+BZNHed/ghwAc1nTy/MzEs7HWTm5cCJNCdVfAH4M5pT5m+e6Qkz8wbgFuBbmXn9vLyqrcjMNTS17kfzmt8KnAJcPW3Vq4GjgHNoPl/7Y+A9ZX2Aa2n2QN8PXAacSbNH+0JmKTMvK7U8geZzuLcBb6EJtA1zfW3So/GO1dKARcRBwI3AqzPznFHXs5BExD7AWuDdmfmuUdejuhho0oCUN+sDaQ7xHUjz/bZ/G21VoxMRj6X5ntzlNCeJHECzB7gSeGJmznSGqdQzP0OTBudVNFchuQX4/elhVk6OWLatDjJz8/yVNxhzeB0P0Zwx+r9oTiRp03xF4GWGmeaDe2jSkETEy4GPb2udzIxtLV8IIuIImpNFtmVVZt42/9VIUww0aUgiYnce5ZT18p2xBS0iHsfDrzoykxu6vgwuDYWBJkmqgqftS5KqYKBJkqpgoEmSqmCgSZKqYKBJkqrw/wHf2ApCP2o0BQAAAABJRU5ErkJggg==\n"
                },
                "metadata": {
                  "needs_background": "light"
                }
              }
            ]
          }
        },
        "02490ca5efe1465ca484b21662b6beaf": {
          "model_module": "@jupyter-widgets/base",
          "model_name": "LayoutModel",
          "model_module_version": "1.2.0",
          "state": {
            "_model_module": "@jupyter-widgets/base",
            "_model_module_version": "1.2.0",
            "_model_name": "LayoutModel",
            "_view_count": null,
            "_view_module": "@jupyter-widgets/base",
            "_view_module_version": "1.2.0",
            "_view_name": "LayoutView",
            "align_content": null,
            "align_items": null,
            "align_self": null,
            "border": null,
            "bottom": null,
            "display": null,
            "flex": null,
            "flex_flow": null,
            "grid_area": null,
            "grid_auto_columns": null,
            "grid_auto_flow": null,
            "grid_auto_rows": null,
            "grid_column": null,
            "grid_gap": null,
            "grid_row": null,
            "grid_template_areas": null,
            "grid_template_columns": null,
            "grid_template_rows": null,
            "height": null,
            "justify_content": null,
            "justify_items": null,
            "left": null,
            "margin": null,
            "max_height": null,
            "max_width": null,
            "min_height": null,
            "min_width": null,
            "object_fit": null,
            "object_position": null,
            "order": null,
            "overflow": null,
            "overflow_x": null,
            "overflow_y": null,
            "padding": null,
            "right": null,
            "top": null,
            "visibility": null,
            "width": null
          }
        },
        "998bb0d7d75b4e08898f271549a5937e": {
          "model_module": "@jupyter-widgets/base",
          "model_name": "LayoutModel",
          "model_module_version": "1.2.0",
          "state": {
            "_model_module": "@jupyter-widgets/base",
            "_model_module_version": "1.2.0",
            "_model_name": "LayoutModel",
            "_view_count": null,
            "_view_module": "@jupyter-widgets/base",
            "_view_module_version": "1.2.0",
            "_view_name": "LayoutView",
            "align_content": null,
            "align_items": null,
            "align_self": null,
            "border": null,
            "bottom": null,
            "display": null,
            "flex": null,
            "flex_flow": null,
            "grid_area": null,
            "grid_auto_columns": null,
            "grid_auto_flow": null,
            "grid_auto_rows": null,
            "grid_column": null,
            "grid_gap": null,
            "grid_row": null,
            "grid_template_areas": null,
            "grid_template_columns": null,
            "grid_template_rows": null,
            "height": null,
            "justify_content": null,
            "justify_items": null,
            "left": null,
            "margin": null,
            "max_height": null,
            "max_width": null,
            "min_height": null,
            "min_width": null,
            "object_fit": null,
            "object_position": null,
            "order": null,
            "overflow": null,
            "overflow_x": null,
            "overflow_y": null,
            "padding": null,
            "right": null,
            "top": null,
            "visibility": null,
            "width": null
          }
        },
        "10f1f31c8700419585f6bd56d2b9ac3b": {
          "model_module": "@jupyter-widgets/controls",
          "model_name": "SliderStyleModel",
          "model_module_version": "1.5.0",
          "state": {
            "_model_module": "@jupyter-widgets/controls",
            "_model_module_version": "1.5.0",
            "_model_name": "SliderStyleModel",
            "_view_count": null,
            "_view_module": "@jupyter-widgets/base",
            "_view_module_version": "1.2.0",
            "_view_name": "StyleView",
            "description_width": "",
            "handle_color": null
          }
        },
        "6dad850e4aac41d59c785aa06c97632f": {
          "model_module": "@jupyter-widgets/base",
          "model_name": "LayoutModel",
          "model_module_version": "1.2.0",
          "state": {
            "_model_module": "@jupyter-widgets/base",
            "_model_module_version": "1.2.0",
            "_model_name": "LayoutModel",
            "_view_count": null,
            "_view_module": "@jupyter-widgets/base",
            "_view_module_version": "1.2.0",
            "_view_name": "LayoutView",
            "align_content": null,
            "align_items": null,
            "align_self": null,
            "border": null,
            "bottom": null,
            "display": null,
            "flex": null,
            "flex_flow": null,
            "grid_area": null,
            "grid_auto_columns": null,
            "grid_auto_flow": null,
            "grid_auto_rows": null,
            "grid_column": null,
            "grid_gap": null,
            "grid_row": null,
            "grid_template_areas": null,
            "grid_template_columns": null,
            "grid_template_rows": null,
            "height": null,
            "justify_content": null,
            "justify_items": null,
            "left": null,
            "margin": null,
            "max_height": null,
            "max_width": null,
            "min_height": null,
            "min_width": null,
            "object_fit": null,
            "object_position": null,
            "order": null,
            "overflow": null,
            "overflow_x": null,
            "overflow_y": null,
            "padding": null,
            "right": null,
            "top": null,
            "visibility": null,
            "width": null
          }
        }
      }
    }
  },
  "nbformat": 4,
  "nbformat_minor": 0
}